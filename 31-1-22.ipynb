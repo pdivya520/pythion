{
 "cells": [
  {
   "cell_type": "markdown",
   "id": "a21a4e71",
   "metadata": {},
   "source": [
    "# welcome\n",
    "## welcome\n",
    "### welcome\n",
    "#### welcome\n",
    "###### welcome"
   ]
  },
  {
   "cell_type": "markdown",
   "id": "4bfcf2d0",
   "metadata": {},
   "source": [
    "***divya***"
   ]
  },
  {
   "cell_type": "markdown",
   "id": "bcbdc2a6",
   "metadata": {},
   "source": [
    "*python* "
   ]
  },
  {
   "cell_type": "markdown",
   "id": "ac549dcc",
   "metadata": {},
   "source": [
    "+ one  \n",
    "- two  \n",
    "* three  \n",
    "    + four  \n",
    "    - five  \n",
    "    * six  \n",
    "        + seven  \n",
    "        - eight  \n",
    "        * nine  \n",
    "        "
   ]
  },
  {
   "cell_type": "markdown",
   "id": "08a6b7f6",
   "metadata": {},
   "source": [
    "### orderlist and sub list"
   ]
  },
  {
   "cell_type": "markdown",
   "id": "7ee54f64",
   "metadata": {},
   "source": [
    "### comments  \n",
    "- user readable information or data  \n",
    "- comments doesnot execute \n",
    "- it is mentioned in \\  \n",
    "- fcgtuyhjhnhyyh  \n",
    "\n"
   ]
  },
  {
   "cell_type": "markdown",
   "id": "2b29caf4",
   "metadata": {},
   "source": [
    "### variable  \n",
    "- which is used to storing data  \n",
    "- variable starts with underscore  \n",
    "- variable couldnot start with numbers and special functions  \n",
    "\n",
    "\n",
    "\n"
   ]
  },
  {
   "cell_type": "markdown",
   "id": "cf9c6ca1",
   "metadata": {},
   "source": [
    "### datatypes  \n",
    "- int(all integer values)  \n",
    "- float(integers with decimal point)  \n",
    "- string(combination of characters are group of characters)  \n",
    "- complex(number with real and imaginary part)  \n",
    "- boolean(true,false)    \n"
   ]
  },
  {
   "cell_type": "code",
   "execution_count": 5,
   "id": "1f2b9102",
   "metadata": {},
   "outputs": [],
   "source": [
    "a=125  \n",
    "b=67.24  \n",
    "c=\"divya\"  \n",
    "d='p'  \n",
    "e=1+2j  \n",
    "f='1+2j'  \n",
    "g=True  \n",
    "\n"
   ]
  },
  {
   "cell_type": "code",
   "execution_count": 7,
   "id": "dc7e43a1",
   "metadata": {},
   "outputs": [
    {
     "name": "stdout",
     "output_type": "stream",
     "text": [
      "<class 'int'>\n",
      "<class 'float'>\n",
      "<class 'str'>\n",
      "<class 'str'>\n",
      "<class 'complex'>\n",
      "<class 'str'>\n",
      "<class 'bool'>\n"
     ]
    }
   ],
   "source": [
    "print(type(a))  \n",
    "print(type(b))  \n",
    "print(type(c))  \n",
    "print(type(d))  \n",
    "print(type(e))  \n",
    "print(type(f))  \n",
    "print(type(g))  "
   ]
  },
  {
   "cell_type": "markdown",
   "id": "3e3d94d1",
   "metadata": {},
   "source": [
    "\n"
   ]
  },
  {
   "cell_type": "code",
   "execution_count": 8,
   "id": "72e177c9",
   "metadata": {},
   "outputs": [
    {
     "name": "stdout",
     "output_type": "stream",
     "text": [
      "<class 'int'>\n"
     ]
    }
   ],
   "source": [
    "_abc=765  \n",
    "print(type(_abc))  "
   ]
  },
  {
   "cell_type": "code",
   "execution_count": 9,
   "id": "fecad3f3",
   "metadata": {},
   "outputs": [
    {
     "name": "stdout",
     "output_type": "stream",
     "text": [
      "<class 'str'>\n",
      "765\n"
     ]
    }
   ],
   "source": [
    "z=str(_abc)\n",
    "print(type(z))  \n",
    "print(z)  "
   ]
  },
  {
   "cell_type": "code",
   "execution_count": 10,
   "id": "a023f721",
   "metadata": {},
   "outputs": [
    {
     "name": "stdout",
     "output_type": "stream",
     "text": [
      "<class 'float'>\n",
      "765.0\n"
     ]
    }
   ],
   "source": [
    "z=float(_abc)  \n",
    "print(type(z))  \n",
    "print(z)  "
   ]
  },
  {
   "cell_type": "code",
   "execution_count": 11,
   "id": "3d889085",
   "metadata": {},
   "outputs": [
    {
     "name": "stdout",
     "output_type": "stream",
     "text": [
      "<class 'complex'>\n",
      "(765+0j)\n"
     ]
    }
   ],
   "source": [
    "z=complex(_abc)  \n",
    "print(type(z))  \n",
    "print(z)  \n"
   ]
  },
  {
   "cell_type": "code",
   "execution_count": 12,
   "id": "85064c11",
   "metadata": {},
   "outputs": [
    {
     "name": "stdout",
     "output_type": "stream",
     "text": [
      "<class 'str'>\n"
     ]
    }
   ],
   "source": [
    "abc=\"divya\"  \n",
    "print(type(abc))  "
   ]
  },
  {
   "cell_type": "code",
   "execution_count": 13,
   "id": "0384f7e5",
   "metadata": {},
   "outputs": [
    {
     "name": "stdout",
     "output_type": "stream",
     "text": [
      "<class 'int'>\n",
      "1051\n"
     ]
    }
   ],
   "source": [
    "abc=\"1051\"  \n",
    "z=int(abc)  \n",
    "print(type(z))  \n",
    "print(z)  "
   ]
  },
  {
   "cell_type": "code",
   "execution_count": 14,
   "id": "9a4ef93b",
   "metadata": {},
   "outputs": [
    {
     "name": "stdout",
     "output_type": "stream",
     "text": [
      "<class 'str'>\n",
      "divya\n"
     ]
    }
   ],
   "source": [
    "abc=\"divya\"  \n",
    "z=str(abc)  \n",
    "print(type(z))  \n",
    "print(z)  "
   ]
  },
  {
   "cell_type": "code",
   "execution_count": null,
   "id": "becfc159",
   "metadata": {},
   "outputs": [],
   "source": []
  }
 ],
 "metadata": {
  "kernelspec": {
   "display_name": "Python 3 (ipykernel)",
   "language": "python",
   "name": "python3"
  },
  "language_info": {
   "codemirror_mode": {
    "name": "ipython",
    "version": 3
   },
   "file_extension": ".py",
   "mimetype": "text/x-python",
   "name": "python",
   "nbconvert_exporter": "python",
   "pygments_lexer": "ipython3",
   "version": "3.9.7"
  }
 },
 "nbformat": 4,
 "nbformat_minor": 5
}
