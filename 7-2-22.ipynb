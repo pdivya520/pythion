{
 "cells": [
  {
   "cell_type": "markdown",
   "id": "f9c25d2b",
   "metadata": {},
   "source": [
    "- python\n",
    "  - python is a programing paradism  means  it supports functional programming language\n",
    "- procedure oriented language  \n",
    "   - procedure oriented means write our programing language iusing functions,object and calsses\n",
    "- object oriented language\n",
    "   - object::real world entity or it is a physical entity representing the\n",
    "   - class::logical entity contains logic of the application"
   ]
  },
  {
   "cell_type": "code",
   "execution_count": null,
   "id": "15db5054",
   "metadata": {},
   "outputs": [],
   "source": [
    "class class_name:\n",
    "    variables   "
   ]
  },
  {
   "cell_type": "code",
   "execution_count": 1,
   "id": "c6dc1e3a",
   "metadata": {},
   "outputs": [
    {
     "name": "stdout",
     "output_type": "stream",
     "text": [
      "hi hello\n"
     ]
    }
   ],
   "source": [
    "print(\"hi hello\")"
   ]
  },
  {
   "cell_type": "code",
   "execution_count": 2,
   "id": "c7b6e9cc",
   "metadata": {},
   "outputs": [
    {
     "data": {
      "text/plain": [
       "17"
      ]
     },
     "execution_count": 2,
     "metadata": {},
     "output_type": "execute_result"
    }
   ],
   "source": [
    "8+9"
   ]
  },
  {
   "cell_type": "code",
   "execution_count": 3,
   "id": "aa9c74bd",
   "metadata": {},
   "outputs": [
    {
     "name": "stdout",
     "output_type": "stream",
     "text": [
      "i am from show() function\n"
     ]
    }
   ],
   "source": [
    "class Hi:\n",
    "    a=30\n",
    "    b=20\n",
    "    name=\"apssdc\"\n",
    "    def show():\n",
    "        print(\"i am from show() function\")\n",
    "Hi.show()        \n",
    "        \n",
    "        \n",
    "        "
   ]
  },
  {
   "cell_type": "code",
   "execution_count": 4,
   "id": "4fa00d68",
   "metadata": {},
   "outputs": [
    {
     "name": "stdout",
     "output_type": "stream",
     "text": [
      "30 20\n"
     ]
    }
   ],
   "source": [
    "print(Hi.a,Hi.b)"
   ]
  },
  {
   "cell_type": "code",
   "execution_count": 5,
   "id": "e3166799",
   "metadata": {},
   "outputs": [
    {
     "name": "stdout",
     "output_type": "stream",
     "text": [
      "apssdc python\n",
      "i am from display function()\n",
      "None\n"
     ]
    }
   ],
   "source": [
    "class Hi:\n",
    "    name=\"apssdc\"\n",
    "    program_name=\"python\"\n",
    "    def display():\n",
    "        print(\"i am from display function()\")\n",
    "    def show():  \n",
    "         print(\"i am from show function()\")\n",
    "print(Hi.name,Hi.program_name)\n",
    "print(Hi.display())\n",
    "            "
   ]
  },
  {
   "cell_type": "code",
   "execution_count": 6,
   "id": "d4cb9bd4",
   "metadata": {},
   "outputs": [
    {
     "name": "stdout",
     "output_type": "stream",
     "text": [
      "i am from display function()\n",
      "None\n"
     ]
    }
   ],
   "source": [
    "print(Hi.display())"
   ]
  },
  {
   "cell_type": "code",
   "execution_count": 9,
   "id": "7b535ca2",
   "metadata": {},
   "outputs": [
    {
     "name": "stdout",
     "output_type": "stream",
     "text": [
      "i am from display function()\n",
      "i am from return statement\n"
     ]
    },
    {
     "ename": "AttributeError",
     "evalue": "type object 'Hello' has no attribute 'show'",
     "output_type": "error",
     "traceback": [
      "\u001b[1;31m---------------------------------------------------------------------------\u001b[0m",
      "\u001b[1;31mAttributeError\u001b[0m                            Traceback (most recent call last)",
      "\u001b[1;32m~\\AppData\\Local\\Temp/ipykernel_1980/2281521257.py\u001b[0m in \u001b[0;36m<module>\u001b[1;34m\u001b[0m\n\u001b[0;32m      6\u001b[0m          \u001b[0mprint\u001b[0m\u001b[1;33m(\u001b[0m\u001b[1;34m\"i am from show function()\"\u001b[0m\u001b[1;33m)\u001b[0m\u001b[1;33m\u001b[0m\u001b[1;33m\u001b[0m\u001b[0m\n\u001b[0;32m      7\u001b[0m \u001b[0mprint\u001b[0m\u001b[1;33m(\u001b[0m\u001b[0mHello\u001b[0m\u001b[1;33m.\u001b[0m\u001b[0mdisplay\u001b[0m\u001b[1;33m(\u001b[0m\u001b[1;33m)\u001b[0m\u001b[1;33m)\u001b[0m\u001b[1;33m\u001b[0m\u001b[1;33m\u001b[0m\u001b[0m\n\u001b[1;32m----> 8\u001b[1;33m \u001b[0mprint\u001b[0m\u001b[1;33m(\u001b[0m\u001b[0mHello\u001b[0m\u001b[1;33m.\u001b[0m\u001b[0mshow\u001b[0m\u001b[1;33m(\u001b[0m\u001b[1;33m)\u001b[0m\u001b[1;33m)\u001b[0m\u001b[1;33m\u001b[0m\u001b[1;33m\u001b[0m\u001b[0m\n\u001b[0m\u001b[0;32m      9\u001b[0m \u001b[1;33m\u001b[0m\u001b[0m\n",
      "\u001b[1;31mAttributeError\u001b[0m: type object 'Hello' has no attribute 'show'"
     ]
    }
   ],
   "source": [
    "class Hello():\n",
    "    def display():\n",
    "        print(\"i am from display function()\")\n",
    "        return(\"i am from return statement\")\n",
    "def show():\n",
    "         print(\"i am from show function()\")\n",
    "print(Hello.display())\n",
    "print(Hello.show())\n",
    "        "
   ]
  },
  {
   "cell_type": "code",
   "execution_count": null,
   "id": "34d57c81",
   "metadata": {},
   "outputs": [],
   "source": [
    "# in java object declaration\n"
   ]
  },
  {
   "cell_type": "code",
   "execution_count": 12,
   "id": "f5c2a211",
   "metadata": {},
   "outputs": [
    {
     "name": "stdout",
     "output_type": "stream",
     "text": [
      "apssdc python\n",
      "i am from display function()\n",
      "None\n"
     ]
    }
   ],
   "source": [
    "class Hi:\n",
    "    name=\"apssdc\"\n",
    "    program_name=\"python\"\n",
    "    def display(self):\n",
    "        print(\"i am from display function()\")\n",
    "    def show():  \n",
    "         print(\"i am from show function()\")\n",
    "obj=Hi()            \n",
    "print(obj.name,obj.program_name)\n",
    "print(obj.display())\n",
    "            "
   ]
  },
  {
   "cell_type": "markdown",
   "id": "f593769d",
   "metadata": {},
   "source": [
    "### Constructor\n",
    "- constructor:without using object we will call methods\n",
    "-  in java::class name should be show as method name\n",
    "- in python::we will use one special method to define constructor\n",
    "-  __int(self)__"
   ]
  },
  {
   "cell_type": "code",
   "execution_count": 21,
   "id": "7f122e1e",
   "metadata": {},
   "outputs": [
    {
     "name": "stdout",
     "output_type": "stream",
     "text": [
      "hi divya\n",
      "your roll_no 21850520\n"
     ]
    }
   ],
   "source": [
    "class Hai:\n",
    "    def __init__(self,name,roll_no):\n",
    "        self.name=name\n",
    "        self.roll_no=roll_no\n",
    "        print(\"hi\",self.name)\n",
    "    def display(self):\n",
    "        print(\"your roll_no\",self.roll_no)\n",
    "obj=Hai('divya','21850520')\n",
    "obj.display()\n",
    "    "
   ]
  },
  {
   "cell_type": "markdown",
   "id": "eda2a2da",
   "metadata": {},
   "source": [
    "### Inheritance\n",
    "- inherit something from parent class to child class"
   ]
  },
  {
   "cell_type": "code",
   "execution_count": null,
   "id": "a1815f76",
   "metadata": {},
   "outputs": [],
   "source": [
    "class A:\n",
    "    #a,b=10,20\n",
    "class B(A):\n",
    "    #c,d=40,50"
   ]
  },
  {
   "cell_type": "code",
   "execution_count": 22,
   "id": "451f7ea1",
   "metadata": {},
   "outputs": [
    {
     "ename": "AttributeError",
     "evalue": "'int' object has no attribute 'c'",
     "output_type": "error",
     "traceback": [
      "\u001b[1;31m---------------------------------------------------------------------------\u001b[0m",
      "\u001b[1;31mAttributeError\u001b[0m                            Traceback (most recent call last)",
      "\u001b[1;32m~\\AppData\\Local\\Temp/ipykernel_1980/4201357252.py\u001b[0m in \u001b[0;36m<module>\u001b[1;34m\u001b[0m\n\u001b[0;32m      8\u001b[0m         \u001b[0mprint\u001b[0m\u001b[1;33m(\u001b[0m\u001b[1;34m\"i am from class B\"\u001b[0m\u001b[1;33m)\u001b[0m\u001b[1;33m\u001b[0m\u001b[1;33m\u001b[0m\u001b[0m\n\u001b[0;32m      9\u001b[0m \u001b[0mobj\u001b[0m\u001b[1;33m=\u001b[0m\u001b[1;36m0\u001b[0m\u001b[1;33m\u001b[0m\u001b[1;33m\u001b[0m\u001b[0m\n\u001b[1;32m---> 10\u001b[1;33m \u001b[0mprint\u001b[0m\u001b[1;33m(\u001b[0m\u001b[0mobj\u001b[0m\u001b[1;33m.\u001b[0m\u001b[0mc\u001b[0m\u001b[1;33m,\u001b[0m\u001b[0mobj\u001b[0m\u001b[1;33m.\u001b[0m\u001b[0ma\u001b[0m\u001b[1;33m)\u001b[0m\u001b[1;33m\u001b[0m\u001b[1;33m\u001b[0m\u001b[0m\n\u001b[0m\u001b[0;32m     11\u001b[0m \u001b[0mobj\u001b[0m\u001b[1;33m.\u001b[0m\u001b[0mmsg\u001b[0m\u001b[1;33m(\u001b[0m\u001b[1;33m)\u001b[0m\u001b[1;33m\u001b[0m\u001b[1;33m\u001b[0m\u001b[0m\n\u001b[0;32m     12\u001b[0m \u001b[0mobj\u001b[0m\u001b[1;33m.\u001b[0m\u001b[0mmsg1\u001b[0m\u001b[1;33m(\u001b[0m\u001b[1;33m)\u001b[0m\u001b[1;33m\u001b[0m\u001b[1;33m\u001b[0m\u001b[0m\n",
      "\u001b[1;31mAttributeError\u001b[0m: 'int' object has no attribute 'c'"
     ]
    }
   ],
   "source": [
    "class A:\n",
    "    a,b=10,20\n",
    "    def msg():\n",
    "        print(\"i am from class A\")\n",
    "class B(A):\n",
    "    c,d=40,50\n",
    "    def msg1():\n",
    "        print(\"i am from class B\")\n",
    "obj=0\n",
    "print(obj.c,obj.a)\n",
    "obj.msg()\n",
    "obj.msg1()"
   ]
  },
  {
   "cell_type": "markdown",
   "id": "965e9818",
   "metadata": {},
   "source": [
    "### Python libraries for data science\n",
    "- organizing,processing,analysing\n",
    "- apply the data visualization\n",
    "- extracting data from the source\n",
    "- nearly 20 python libraries\n",
    "### top\n",
    "- numpy\n",
    "- pandas\n",
    "- matplotlib \n",
    "\n",
    "### numpy\n",
    "- (num+py) means numerical data+python\n",
    "- it is a fundamental package for scientific computing\n",
    "- numpy is python library\n",
    "- it is used to create multidimensional array for fast operations\n",
    "  - its dealing with mathematical scientific statical data\n",
    "- numpy contains a powerful n dimensional arrays objects which in the form of \n",
    "- we can intilize numpy array from nested python lists"
   ]
  },
  {
   "cell_type": "code",
   "execution_count": null,
   "id": "37fd74f4",
   "metadata": {},
   "outputs": [],
   "source": [
    "# how to install numpy\n",
    "- pip install numpy"
   ]
  },
  {
   "cell_type": "code",
   "execution_count": 3,
   "id": "faef56cc",
   "metadata": {},
   "outputs": [],
   "source": [
    "# how to import and use many \n",
    "import numpy as np"
   ]
  },
  {
   "cell_type": "code",
   "execution_count": 4,
   "id": "a3ce3626",
   "metadata": {},
   "outputs": [
    {
     "data": {
      "text/plain": [
       "'1.20.3'"
      ]
     },
     "execution_count": 4,
     "metadata": {},
     "output_type": "execute_result"
    }
   ],
   "source": [
    "# how to find the numpy version\n",
    "np.__version__"
   ]
  },
  {
   "cell_type": "code",
   "execution_count": 17,
   "id": "9dd980b5",
   "metadata": {},
   "outputs": [
    {
     "name": "stdout",
     "output_type": "stream",
     "text": [
      "[1 2 3 4]\n",
      "<class 'numpy.ndarray'>\n"
     ]
    }
   ],
   "source": [
    "# how to create numpy arrays\n",
    "import numpy as np\n",
    "a=np.array([1,2,3,4])# single dimensional number\n",
    "print(a)\n",
    "print(type(a))"
   ]
  },
  {
   "cell_type": "code",
   "execution_count": 16,
   "id": "33d4d397",
   "metadata": {},
   "outputs": [
    {
     "name": "stdout",
     "output_type": "stream",
     "text": [
      "[[1 2 3]\n",
      " [4 5 6]]\n",
      "<class 'numpy.ndarray'>\n"
     ]
    }
   ],
   "source": [
    "a2=np.array([[1,2,3],[4,5,6]])\n",
    "print(a2)\n",
    "print(type(a2))"
   ]
  },
  {
   "cell_type": "code",
   "execution_count": 18,
   "id": "1232c9b6",
   "metadata": {},
   "outputs": [
    {
     "data": {
      "text/plain": [
       "(2, 3)"
      ]
     },
     "execution_count": 18,
     "metadata": {},
     "output_type": "execute_result"
    }
   ],
   "source": [
    "#  to know about the shape of the array \n",
    "a2.shape"
   ]
  },
  {
   "cell_type": "code",
   "execution_count": 22,
   "id": "1eb20c61",
   "metadata": {},
   "outputs": [
    {
     "name": "stdout",
     "output_type": "stream",
     "text": [
      "<class 'list'>\n",
      "['2' '3' '4' 'h' 'i']\n",
      "<class 'numpy.ndarray'>\n"
     ]
    }
   ],
   "source": [
    "li=[2,3,4,'h','i']\n",
    "print(type(li))\n",
    "a2=np.array(li)\n",
    "print(a2)\n",
    "print(type(a2))"
   ]
  },
  {
   "cell_type": "code",
   "execution_count": 26,
   "id": "e5d63380",
   "metadata": {},
   "outputs": [
    {
     "name": "stdout",
     "output_type": "stream",
     "text": [
      "[[1 2 3]\n",
      " [4 5 6]]\n"
     ]
    }
   ],
   "source": [
    "b=np.array([[1,2,3],[4,5,6]])\n",
    "print(a1)"
   ]
  },
  {
   "cell_type": "code",
   "execution_count": 27,
   "id": "3b38ba2c",
   "metadata": {},
   "outputs": [
    {
     "name": "stdout",
     "output_type": "stream",
     "text": [
      "(2, 3)\n"
     ]
    }
   ],
   "source": [
    "print(b.shape)"
   ]
  },
  {
   "cell_type": "code",
   "execution_count": 31,
   "id": "98bd59bf",
   "metadata": {},
   "outputs": [
    {
     "data": {
      "text/plain": [
       "4"
      ]
     },
     "execution_count": 31,
     "metadata": {},
     "output_type": "execute_result"
    }
   ],
   "source": [
    "b.itemsize"
   ]
  },
  {
   "cell_type": "code",
   "execution_count": 33,
   "id": "44fd75fc",
   "metadata": {},
   "outputs": [
    {
     "data": {
      "text/plain": [
       "1"
      ]
     },
     "execution_count": 33,
     "metadata": {},
     "output_type": "execute_result"
    }
   ],
   "source": [
    "b.ndim"
   ]
  },
  {
   "cell_type": "code",
   "execution_count": 32,
   "id": "2d577dad",
   "metadata": {},
   "outputs": [
    {
     "name": "stdout",
     "output_type": "stream",
     "text": [
      "[0 1 2 3 4 5 6 7 8 9]\n",
      "<class 'numpy.ndarray'>\n",
      "(10,)\n",
      "10\n",
      "[1 3 5 7 9]\n",
      "1\n"
     ]
    }
   ],
   "source": [
    "#range\n",
    "a=np.array(range(10))\n",
    "print(a)\n",
    "print(type(a))\n",
    "print(a.shape)\n",
    "print(a.size)\n",
    "b=np.array(range(1,10,2))\n",
    "print(b)\n",
    "print(b.ndim)"
   ]
  },
  {
   "cell_type": "code",
   "execution_count": 34,
   "id": "d3572bc6",
   "metadata": {},
   "outputs": [
    {
     "data": {
      "text/plain": [
       "array([1, 3, 5, 7, 9])"
      ]
     },
     "execution_count": 34,
     "metadata": {},
     "output_type": "execute_result"
    }
   ],
   "source": [
    "a=np.array(range(1,10,2))\n",
    "a"
   ]
  },
  {
   "cell_type": "code",
   "execution_count": 37,
   "id": "79447355",
   "metadata": {},
   "outputs": [
    {
     "data": {
      "text/plain": [
       "array([0, 1, 2, 3, 4, 5, 6, 7, 8, 9])"
      ]
     },
     "execution_count": 37,
     "metadata": {},
     "output_type": "execute_result"
    }
   ],
   "source": [
    "# arrange():third party of many libraries\n",
    "a=np.arange(10)\n",
    "a"
   ]
  },
  {
   "cell_type": "code",
   "execution_count": 38,
   "id": "1fddd983",
   "metadata": {},
   "outputs": [
    {
     "data": {
      "text/plain": [
       "array([ 1,  3,  5,  7,  9, 11, 13, 15, 17, 19])"
      ]
     },
     "execution_count": 38,
     "metadata": {},
     "output_type": "execute_result"
    }
   ],
   "source": [
    "a=np.arange(1,20,2)\n",
    "a"
   ]
  },
  {
   "cell_type": "code",
   "execution_count": 39,
   "id": "33565a48",
   "metadata": {},
   "outputs": [
    {
     "name": "stdout",
     "output_type": "stream",
     "text": [
      "[[0 1]\n",
      " [2 3]\n",
      " [4 5]\n",
      " [6 7]\n",
      " [8 9]]\n"
     ]
    }
   ],
   "source": [
    "x=np.arange(10)\n",
    "print(x.reshape(5,2))"
   ]
  },
  {
   "cell_type": "code",
   "execution_count": 43,
   "id": "58fb90b5",
   "metadata": {},
   "outputs": [
    {
     "name": "stdout",
     "output_type": "stream",
     "text": [
      "(8,)\n",
      "before reshape [1 2 3 4 5 6 7 8]\n",
      "1\n"
     ]
    },
    {
     "ename": "ValueError",
     "evalue": "cannot reshape array of size 5 into shape (4,7)",
     "output_type": "error",
     "traceback": [
      "\u001b[1;31m---------------------------------------------------------------------------\u001b[0m",
      "\u001b[1;31mValueError\u001b[0m                                Traceback (most recent call last)",
      "\u001b[1;32m~\\AppData\\Local\\Temp/ipykernel_3612/1195825400.py\u001b[0m in \u001b[0;36m<module>\u001b[1;34m\u001b[0m\n\u001b[0;32m      4\u001b[0m \u001b[0mprint\u001b[0m\u001b[1;33m(\u001b[0m\u001b[1;34m\"before reshape\"\u001b[0m\u001b[1;33m,\u001b[0m\u001b[0ma1\u001b[0m\u001b[1;33m)\u001b[0m\u001b[1;33m\u001b[0m\u001b[1;33m\u001b[0m\u001b[0m\n\u001b[0;32m      5\u001b[0m \u001b[0mprint\u001b[0m\u001b[1;33m(\u001b[0m\u001b[0ma2\u001b[0m\u001b[1;33m.\u001b[0m\u001b[0mndim\u001b[0m\u001b[1;33m)\u001b[0m\u001b[1;33m\u001b[0m\u001b[1;33m\u001b[0m\u001b[0m\n\u001b[1;32m----> 6\u001b[1;33m \u001b[0ma2\u001b[0m\u001b[1;33m=\u001b[0m\u001b[0ma2\u001b[0m\u001b[1;33m.\u001b[0m\u001b[0mreshape\u001b[0m\u001b[1;33m(\u001b[0m\u001b[1;36m4\u001b[0m\u001b[1;33m,\u001b[0m\u001b[1;36m7\u001b[0m\u001b[1;33m)\u001b[0m\u001b[1;33m\u001b[0m\u001b[1;33m\u001b[0m\u001b[0m\n\u001b[0m\u001b[0;32m      7\u001b[0m \u001b[0mprint\u001b[0m\u001b[1;33m(\u001b[0m\u001b[1;34m\"after reshape\"\u001b[0m\u001b[1;33m,\u001b[0m\u001b[0ma2\u001b[0m\u001b[1;33m)\u001b[0m\u001b[1;33m\u001b[0m\u001b[1;33m\u001b[0m\u001b[0m\n\u001b[0;32m      8\u001b[0m \u001b[0mprint\u001b[0m\u001b[1;33m(\u001b[0m\u001b[0ma2\u001b[0m\u001b[1;33m.\u001b[0m\u001b[0mreshape\u001b[0m\u001b[1;33m)\u001b[0m\u001b[1;33m\u001b[0m\u001b[1;33m\u001b[0m\u001b[0m\n",
      "\u001b[1;31mValueError\u001b[0m: cannot reshape array of size 5 into shape (4,7)"
     ]
    }
   ],
   "source": [
    "# reshape of array\n",
    "a1=np.array([1,2,3,4,5,6,7,8])\n",
    "print(a1.shape)\n",
    "print(\"before reshape\",a1)\n",
    "print(a2.ndim)\n",
    "a2=a2.reshape(4,7)\n",
    "print(\"after reshape\",a2)\n",
    "print(a2.reshape)\n",
    "print(a2.ndim)"
   ]
  },
  {
   "cell_type": "code",
   "execution_count": 51,
   "id": "acdc311b",
   "metadata": {},
   "outputs": [
    {
     "name": "stdout",
     "output_type": "stream",
     "text": [
      "[1 2 3 4 5 6 7 8]\n",
      "(8,)\n",
      "[1 2 3]\n",
      "(3,)\n",
      "[1 2 3]\n",
      "(3,)\n"
     ]
    }
   ],
   "source": [
    "# resize of array(it modifies\n",
    "a1=np.array([1,2,3,4,5,6,7,8])\n",
    "print(a1)\n",
    "print(a1.shape)\n",
    "a1.resize(3)\n",
    "print(a1)\n",
    "print(a1.shape)\n",
    "a2.resize(3,3)\n",
    "print(a1)\n",
    "print(a1.shape)\n",
    "\n"
   ]
  },
  {
   "cell_type": "code",
   "execution_count": 46,
   "id": "f7c1b6eb",
   "metadata": {},
   "outputs": [],
   "source": [
    "import numpy as np"
   ]
  },
  {
   "cell_type": "code",
   "execution_count": 52,
   "id": "904d4e0d",
   "metadata": {},
   "outputs": [
    {
     "ename": "SyntaxError",
     "evalue": "cannot assign to function call (Temp/ipykernel_3612/2523176640.py, line 4)",
     "output_type": "error",
     "traceback": [
      "\u001b[1;36m  File \u001b[1;32m\"C:\\Users\\exam\\AppData\\Local\\Temp/ipykernel_3612/2523176640.py\"\u001b[1;36m, line \u001b[1;32m4\u001b[0m\n\u001b[1;33m    a2=np.zero(2,4),dtype=\"int64\"\u001b[0m\n\u001b[1;37m       ^\u001b[0m\n\u001b[1;31mSyntaxError\u001b[0m\u001b[1;31m:\u001b[0m cannot assign to function call\n"
     ]
    }
   ],
   "source": [
    "# zero array\n",
    "import numpy as np\n",
    "a1=np.zero(3)\n",
    "a2=np.zero(2,4),dtype=\"int64\"\n",
    "print(a1.dtype)\n",
    "print(a2.dtype)\n",
    "print(a1)\n",
    "print(a2)\n"
   ]
  },
  {
   "cell_type": "code",
   "execution_count": 49,
   "id": "aec155e9",
   "metadata": {},
   "outputs": [
    {
     "ename": "SyntaxError",
     "evalue": "cannot assign to function call (Temp/ipykernel_3612/1655958438.py, line 3)",
     "output_type": "error",
     "traceback": [
      "\u001b[1;36m  File \u001b[1;32m\"C:\\Users\\exam\\AppData\\Local\\Temp/ipykernel_3612/1655958438.py\"\u001b[1;36m, line \u001b[1;32m3\u001b[0m\n\u001b[1;33m    np.ones(6,5),dtype=\"int64\"\u001b[0m\n\u001b[1;37m    ^\u001b[0m\n\u001b[1;31mSyntaxError\u001b[0m\u001b[1;31m:\u001b[0m cannot assign to function call\n"
     ]
    }
   ],
   "source": [
    "a2=np.ones(3,dtype=int64)\n",
    "print(a2)\n",
    "np.ones(6,5),dtype=\"int64\""
   ]
  },
  {
   "cell_type": "code",
   "execution_count": 56,
   "id": "f7f288e6",
   "metadata": {},
   "outputs": [
    {
     "data": {
      "text/plain": [
       "array([[7, 7, 7],\n",
       "       [7, 7, 7],\n",
       "       [7, 7, 7]])"
      ]
     },
     "execution_count": 56,
     "metadata": {},
     "output_type": "execute_result"
    }
   ],
   "source": [
    "# full array full(dimensions,specified numbers)\n",
    "a=np.full((3,3),7)\n",
    "a"
   ]
  },
  {
   "cell_type": "code",
   "execution_count": 57,
   "id": "10a097d2",
   "metadata": {},
   "outputs": [
    {
     "data": {
      "text/plain": [
       "array([7, 7, 7])"
      ]
     },
     "execution_count": 57,
     "metadata": {},
     "output_type": "execute_result"
    }
   ],
   "source": [
    "np.diag(a)"
   ]
  },
  {
   "cell_type": "code",
   "execution_count": 58,
   "id": "c3700d1e",
   "metadata": {},
   "outputs": [
    {
     "data": {
      "text/plain": [
       "array([100, 100, 100])"
      ]
     },
     "execution_count": 58,
     "metadata": {},
     "output_type": "execute_result"
    }
   ],
   "source": [
    "np.full(3,100)"
   ]
  },
  {
   "cell_type": "code",
   "execution_count": 59,
   "id": "ebfa5fcc",
   "metadata": {
    "scrolled": true
   },
   "outputs": [
    {
     "data": {
      "text/plain": [
       "array([[500, 500, 500, 500, 500, 500, 500, 500, 500],\n",
       "       [500, 500, 500, 500, 500, 500, 500, 500, 500],\n",
       "       [500, 500, 500, 500, 500, 500, 500, 500, 500]])"
      ]
     },
     "execution_count": 59,
     "metadata": {},
     "output_type": "execute_result"
    }
   ],
   "source": [
    "np.full((3,9),500)"
   ]
  },
  {
   "cell_type": "code",
   "execution_count": 60,
   "id": "a54c4849",
   "metadata": {},
   "outputs": [
    {
     "data": {
      "text/plain": [
       "array([[1, 0, 0, 0, 0, 0],\n",
       "       [0, 1, 0, 0, 0, 0],\n",
       "       [0, 0, 1, 0, 0, 0],\n",
       "       [0, 0, 0, 1, 0, 0],\n",
       "       [0, 0, 0, 0, 1, 0],\n",
       "       [0, 0, 0, 0, 0, 1]], dtype=int64)"
      ]
     },
     "execution_count": 60,
     "metadata": {},
     "output_type": "execute_result"
    }
   ],
   "source": [
    "# eye array\n",
    "np.eye(6,dtype=\"int64\")"
   ]
  },
  {
   "cell_type": "code",
   "execution_count": null,
   "id": "f813b565",
   "metadata": {},
   "outputs": [],
   "source": [
    "f=np.random.randint(1,30)"
   ]
  },
  {
   "cell_type": "code",
   "execution_count": 64,
   "id": "a64d9f65",
   "metadata": {},
   "outputs": [
    {
     "data": {
      "text/plain": [
       "array([[7, 7, 7],\n",
       "       [7, 7, 7],\n",
       "       [7, 7, 7]])"
      ]
     },
     "execution_count": 64,
     "metadata": {},
     "output_type": "execute_result"
    }
   ],
   "source": [
    "a"
   ]
  },
  {
   "cell_type": "code",
   "execution_count": 65,
   "id": "341e1986",
   "metadata": {},
   "outputs": [
    {
     "data": {
      "text/plain": [
       "7"
      ]
     },
     "execution_count": 65,
     "metadata": {},
     "output_type": "execute_result"
    }
   ],
   "source": [
    "a.max()"
   ]
  },
  {
   "cell_type": "code",
   "execution_count": 66,
   "id": "580650af",
   "metadata": {},
   "outputs": [
    {
     "data": {
      "text/plain": [
       "7"
      ]
     },
     "execution_count": 66,
     "metadata": {},
     "output_type": "execute_result"
    }
   ],
   "source": [
    "a.min()"
   ]
  },
  {
   "cell_type": "code",
   "execution_count": null,
   "id": "45ce5223",
   "metadata": {},
   "outputs": [],
   "source": [
    "a=np.arange(9.reshape(3,3))\n",
    "a"
   ]
  },
  {
   "cell_type": "code",
   "execution_count": null,
   "id": "05066ed6",
   "metadata": {},
   "outputs": [],
   "source": [
    "b=np.arrange()"
   ]
  },
  {
   "cell_type": "code",
   "execution_count": null,
   "id": "7414aa7b",
   "metadata": {},
   "outputs": [],
   "source": [
    "print(a+b)\n",
    "print(\"************\")\n",
    "print(a-b)\n",
    "print(\"_________\")\n",
    "print(a*b)\n",
    "print(\"$$$$$$$$$$$$\")\n",
    "print(a%d)\n",
    "print(np.max(a))\n",
    "print(np.min(b))\n"
   ]
  },
  {
   "cell_type": "code",
   "execution_count": 78,
   "id": "a4614873",
   "metadata": {},
   "outputs": [
    {
     "data": {
      "text/plain": [
       "array([[10, 10, 10],\n",
       "       [10, 10, 10],\n",
       "       [10, 10, 10]])"
      ]
     },
     "execution_count": 78,
     "metadata": {},
     "output_type": "execute_result"
    }
   ],
   "source": [
    "a+3"
   ]
  },
  {
   "cell_type": "code",
   "execution_count": null,
   "id": "1502375c",
   "metadata": {},
   "outputs": [],
   "source": []
  },
  {
   "cell_type": "code",
   "execution_count": 79,
   "id": "0c175258",
   "metadata": {
    "scrolled": false
   },
   "outputs": [
    {
     "data": {
      "text/plain": [
       "array([[17, 17, 17],\n",
       "       [17, 17, 17],\n",
       "       [17, 17, 17]])"
      ]
     },
     "execution_count": 79,
     "metadata": {},
     "output_type": "execute_result"
    }
   ],
   "source": [
    "a+10"
   ]
  },
  {
   "cell_type": "code",
   "execution_count": 80,
   "id": "056c1a06",
   "metadata": {},
   "outputs": [
    {
     "data": {
      "text/plain": [
       "1.0"
      ]
     },
     "execution_count": 80,
     "metadata": {},
     "output_type": "execute_result"
    }
   ],
   "source": [
    "np.log2(2)"
   ]
  },
  {
   "cell_type": "code",
   "execution_count": 75,
   "id": "4421182e",
   "metadata": {},
   "outputs": [
    {
     "data": {
      "text/plain": [
       "array([0.        , 0.69314718, 1.09861229])"
      ]
     },
     "execution_count": 75,
     "metadata": {},
     "output_type": "execute_result"
    }
   ],
   "source": [
    "np.log([1,2,3])"
   ]
  },
  {
   "cell_type": "code",
   "execution_count": 77,
   "id": "57493ce8",
   "metadata": {},
   "outputs": [
    {
     "data": {
      "text/plain": [
       "-6.405331196646276"
      ]
     },
     "execution_count": 77,
     "metadata": {},
     "output_type": "execute_result"
    }
   ],
   "source": [
    "np.tan(30)"
   ]
  },
  {
   "cell_type": "code",
   "execution_count": 81,
   "id": "8c69360e",
   "metadata": {},
   "outputs": [
    {
     "data": {
      "text/plain": [
       "2.718281828459045"
      ]
     },
     "execution_count": 81,
     "metadata": {},
     "output_type": "execute_result"
    }
   ],
   "source": [
    "np.exp(1)"
   ]
  },
  {
   "cell_type": "code",
   "execution_count": 82,
   "id": "7dfbfd20",
   "metadata": {},
   "outputs": [
    {
     "data": {
      "text/plain": [
       "-0.9880316240928618"
      ]
     },
     "execution_count": 82,
     "metadata": {},
     "output_type": "execute_result"
    }
   ],
   "source": [
    "np.sin(30)"
   ]
  },
  {
   "cell_type": "code",
   "execution_count": 83,
   "id": "2768de17",
   "metadata": {},
   "outputs": [
    {
     "data": {
      "text/plain": [
       "0.15425144988758405"
      ]
     },
     "execution_count": 83,
     "metadata": {},
     "output_type": "execute_result"
    }
   ],
   "source": [
    "np.cos(30)"
   ]
  },
  {
   "cell_type": "code",
   "execution_count": 84,
   "id": "ab84615f",
   "metadata": {},
   "outputs": [
    {
     "data": {
      "text/plain": [
       "1.0"
      ]
     },
     "execution_count": 84,
     "metadata": {},
     "output_type": "execute_result"
    }
   ],
   "source": [
    "np.cos(0)"
   ]
  },
  {
   "cell_type": "markdown",
   "id": "36e541f9",
   "metadata": {},
   "source": [
    " ### Pandas\n",
    " - pandas is the datascience packages\n",
    " - it is used for\n",
    "   - data manupulation(modification and updations)\n",
    "   - data analysis\n",
    "   - data cleaning to remove unnecessary data from data sciences\n",
    " - contains mainly two data structures in pandas\n",
    "   - series-sequence of a data\n",
    "   - dataframes-data with rows and columns\n",
    "\n",
    "   "
   ]
  },
  {
   "cell_type": "code",
   "execution_count": null,
   "id": "6c043b99",
   "metadata": {},
   "outputs": [],
   "source": []
  }
 ],
 "metadata": {
  "kernelspec": {
   "display_name": "Python 3 (ipykernel)",
   "language": "python",
   "name": "python3"
  },
  "language_info": {
   "codemirror_mode": {
    "name": "ipython",
    "version": 3
   },
   "file_extension": ".py",
   "mimetype": "text/x-python",
   "name": "python",
   "nbconvert_exporter": "python",
   "pygments_lexer": "ipython3",
   "version": "3.9.7"
  }
 },
 "nbformat": 4,
 "nbformat_minor": 5
}
