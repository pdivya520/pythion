{
 "cells": [
  {
   "cell_type": "markdown",
   "id": "f1acbe76",
   "metadata": {},
   "source": [
    "### while\n",
    "- it executes block or set of instructions until the condition is false\n",
    "- while  we dont the range \n",
    "- executes faster than the for loop\n",
    "- user incrementation "
   ]
  },
  {
   "cell_type": "code",
   "execution_count": null,
   "id": "a26f00ab",
   "metadata": {},
   "outputs": [],
   "source": [
    "# while syntax\n",
    "intilization\n",
    "while condition:\n",
    "    statements\n",
    "    incr/decrement"
   ]
  },
  {
   "cell_type": "code",
   "execution_count": 4,
   "id": "8e19004d",
   "metadata": {},
   "outputs": [
    {
     "name": "stdout",
     "output_type": "stream",
     "text": [
      "vasavi college\n",
      "vasavi college\n",
      "vasavi college\n",
      "vasavi college\n",
      "vasavi college\n"
     ]
    }
   ],
   "source": [
    "n=1\n",
    "while n<=5:\n",
    "    print(\"vasavi college\")\n",
    "    n=n+1"
   ]
  },
  {
   "cell_type": "code",
   "execution_count": 5,
   "id": "210fe9c1",
   "metadata": {},
   "outputs": [
    {
     "name": "stdout",
     "output_type": "stream",
     "text": [
      "10 9 8 7 6 5 4 3 2 1 "
     ]
    }
   ],
   "source": [
    "n=10\n",
    "while n>=1:\n",
    "    print(n,end=\" \")\n",
    "    n=n-1"
   ]
  },
  {
   "cell_type": "code",
   "execution_count": null,
   "id": "7bed4163",
   "metadata": {},
   "outputs": [],
   "source": [
    "# i/p size\n",
    "# o/p digit count 4\n",
    "c=0\n",
    "while(s!=0): #123"
   ]
  },
  {
   "cell_type": "code",
   "execution_count": 6,
   "id": "92b0e78f",
   "metadata": {},
   "outputs": [
    {
     "name": "stdout",
     "output_type": "stream",
     "text": [
      "232\n",
      "its palindrome\n"
     ]
    }
   ],
   "source": [
    "# check the given number is palindrome or not\n",
    "# 121 121\n",
    "# mom mom\n",
    "n=int(input())\n",
    "temp=n\n",
    "rev=0\n",
    "while(n!=0):\n",
    "    rem=n%10\n",
    "    rev=rev*10+rem\n",
    "    n=n/10\n",
    "if(temp==rev):\n",
    "    print(\"its palindrom number\")\n",
    "else:\n",
    "    print(\"its palindrome\")\n",
    "\n",
    "      \n",
    "\n"
   ]
  },
  {
   "cell_type": "code",
   "execution_count": null,
   "id": "78324190",
   "metadata": {},
   "outputs": [],
   "source": [
    "# nested for loop\n",
    "- for iter in range(start,end,step):\n",
    "    - for iter in range()\n",
    "    statement1\n",
    "    statementn"
   ]
  },
  {
   "cell_type": "code",
   "execution_count": null,
   "id": "94d5784c",
   "metadata": {},
   "outputs": [],
   "source": [
    "# matrix range\n",
    "- rows,columns\n"
   ]
  },
  {
   "cell_type": "code",
   "execution_count": 11,
   "id": "b02b8f7e",
   "metadata": {},
   "outputs": [
    {
     "name": "stdout",
     "output_type": "stream",
     "text": [
      "1 1 1 1 \n",
      "2 2 2 2 \n",
      "3 3 3 3 \n",
      "4 4 4 4 \n"
     ]
    }
   ],
   "source": [
    "for row in range(1,5):\n",
    "    for column in range(1,5):\n",
    "        print(row,end=\" \")\n",
    "    print() # new line "
   ]
  },
  {
   "cell_type": "code",
   "execution_count": 14,
   "id": "66f15932",
   "metadata": {},
   "outputs": [
    {
     "name": "stdout",
     "output_type": "stream",
     "text": [
      "* * * * * * * * \n",
      "* * * * * * * * \n",
      "* * * * * * * * \n",
      "* * * * * * * * \n",
      "* * * * * * * * \n"
     ]
    }
   ],
   "source": [
    "for row in range(1,6):\n",
    "    for column in range(1,9):\n",
    "        \n",
    "        "
   ]
  },
  {
   "cell_type": "code",
   "execution_count": 15,
   "id": "09b09566",
   "metadata": {},
   "outputs": [
    {
     "name": "stdout",
     "output_type": "stream",
     "text": [
      "* \n",
      "* * \n",
      "* * * \n",
      "* * * * \n",
      "* * * * * \n"
     ]
    }
   ],
   "source": [
    "for row in range(1,6):\n",
    "    for column in range(1,row+1):\n",
    "        print(\"*\",end=\" \")\n",
    "    print() # new line \n",
    "        \n"
   ]
  },
  {
   "cell_type": "code",
   "execution_count": 16,
   "id": "83dd0e90",
   "metadata": {},
   "outputs": [
    {
     "name": "stdout",
     "output_type": "stream",
     "text": [
      "* * * * * * \n",
      "* * * * * \n",
      "* * * * \n",
      "* * * \n",
      "* * \n",
      "* \n"
     ]
    }
   ],
   "source": [
    "for row in range(6,0,-1):\n",
    "    for column in range(1,row+1):\n",
    "        print(\"*\",end=\" \")\n",
    "    print() # new line \n",
    "        \n"
   ]
  },
  {
   "cell_type": "code",
   "execution_count": 1,
   "id": "ebff0843",
   "metadata": {},
   "outputs": [
    {
     "name": "stdout",
     "output_type": "stream",
     "text": [
      "* \n",
      "* * \n",
      "* * * \n",
      "* * * * \n",
      "* * * * * \n",
      "* * * * * * \n",
      "* * * * * \n",
      "* * * * \n",
      "* * * \n",
      "* * \n",
      "* \n"
     ]
    }
   ],
   "source": [
    "for row in range(1,6):\n",
    "    for column in range(1,row+1):\n",
    "        print(\"*\",end=\" \")\n",
    "    print() # new line \n",
    "for row in range(6,0,-1):\n",
    "    for column in range(1,row+1):\n",
    "        print(\"*\",end=\" \")\n",
    "    print() # new line\n",
    "        \n"
   ]
  },
  {
   "cell_type": "code",
   "execution_count": null,
   "id": "5f2d38a3",
   "metadata": {},
   "outputs": [],
   "source": [
    "# 1-10\n",
    "# prime numbers:2,3,5,7\n",
    "st=int(input())\n",
    "en=int(input())\n",
    "for num in range(st,en+1):# num=1,num=2,num=3,num=4\n",
    "    c=0\n",
    "    for var in range(1,num+1):#(1,1),(1,2),(1,3),(1,4)\n",
    "        if num%var==0:\n",
    "            c+=1\n",
    "    if c==2:\n",
    "        print(num,end=\" \")  "
   ]
  },
  {
   "cell_type": "code",
   "execution_count": null,
   "id": "ad1fa2ee",
   "metadata": {},
   "outputs": [],
   "source": [
    "# nested while\n",
    "- loop inside another loop"
   ]
  },
  {
   "cell_type": "code",
   "execution_count": null,
   "id": "6a736c2a",
   "metadata": {},
   "outputs": [],
   "source": [
    "# syntax\n",
    "intilization\n",
    "while condition:\n",
    "    statements1\n",
    "    inc/dec\n",
    "    while condition:\n",
    "        statement2\n",
    "        inc/dec"
   ]
  },
  {
   "cell_type": "code",
   "execution_count": 27,
   "id": "ef64a320",
   "metadata": {},
   "outputs": [
    {
     "name": "stdout",
     "output_type": "stream",
     "text": [
      "1 * 1 * 1\n",
      "\n",
      "2 * 2 * 4\n",
      "\n",
      "3 * 3 * 9\n",
      "\n",
      "4 * 4 * 16\n",
      "\n",
      "5 * 5 * 25\n",
      "\n",
      "6 * 6 * 36\n",
      "\n",
      "7 * 7 * 49\n",
      "\n",
      "8 * 8 * 64\n",
      "\n",
      "9 * 9 * 81\n",
      "\n",
      "10 * 10 * 100\n",
      "\n"
     ]
    }
   ],
   "source": [
    "i=1\n",
    "while i<=10:\n",
    "    j=1\n",
    "    while j<=10:\n",
    "        print(i,\"*\",j,\"*\",i*j)\n",
    "        j+=1\n",
    "        print()\n",
    "        i+=1"
   ]
  },
  {
   "cell_type": "markdown",
   "id": "53d23fc7",
   "metadata": {},
   "source": [
    "### Jump statements\n",
    "- we called as unconditional jumps\n",
    "  - break\n",
    "  - continue\n",
    "  - pass"
   ]
  },
  {
   "cell_type": "markdown",
   "id": "50bc5fb5",
   "metadata": {},
   "source": [
    "### Break\n",
    "- terminates the current loop statements\n",
    "- break is a keyword"
   ]
  },
  {
   "cell_type": "code",
   "execution_count": 4,
   "id": "fc1697b0",
   "metadata": {},
   "outputs": [
    {
     "name": "stdout",
     "output_type": "stream",
     "text": [
      "p\n",
      "y\n",
      "t\n"
     ]
    }
   ],
   "source": [
    "for i in \"python\":\n",
    "    if i=='h':\n",
    "        break\n",
    "    print(i)"
   ]
  },
  {
   "cell_type": "code",
   "execution_count": null,
   "id": "f01b0e92",
   "metadata": {},
   "outputs": [],
   "source": [
    "i=1\n",
    "while i<=10:\n",
    "    print(i)\n",
    "\n"
   ]
  },
  {
   "cell_type": "markdown",
   "id": "04dd454b",
   "metadata": {},
   "source": [
    "### continue\n",
    "- it skips only one current itteration and continues next itteration\n",
    "- continue is also a keyword"
   ]
  },
  {
   "cell_type": "code",
   "execution_count": 3,
   "id": "88f5ecb9",
   "metadata": {},
   "outputs": [
    {
     "name": "stdout",
     "output_type": "stream",
     "text": [
      "0\n",
      "1\n",
      "2\n",
      "3\n",
      "4\n",
      "5\n",
      "7\n",
      "8\n",
      "9\n"
     ]
    }
   ],
   "source": [
    "for i in range(10):\n",
    "    if i==6:\n",
    "        continue\n",
    "        print(\"fdp\")\n",
    "    print(i)    "
   ]
  },
  {
   "cell_type": "code",
   "execution_count": 6,
   "id": "dc7fed9a",
   "metadata": {},
   "outputs": [
    {
     "name": "stdout",
     "output_type": "stream",
     "text": [
      "1 3 5 7 9 "
     ]
    }
   ],
   "source": [
    "# print odd number using given number\n",
    "for i in range(1,10):\n",
    "    if i%2==0:\n",
    "        continue\n",
    "    print(i,end=\" \")\n",
    "    "
   ]
  },
  {
   "cell_type": "markdown",
   "id": "3685376b",
   "metadata": {},
   "source": [
    "### Pass \n",
    "- it is a keyword\n",
    "- when we need the condition scientifically correct need to change another operation\n",
    "- it is a null operation\n",
    "- pass statements we use to create empty classes also"
   ]
  },
  {
   "cell_type": "code",
   "execution_count": 8,
   "id": "c323b8db",
   "metadata": {},
   "outputs": [
    {
     "name": "stdout",
     "output_type": "stream",
     "text": [
      "p\n",
      "y\n",
      "t\n",
      "pass executed\n",
      "h\n",
      "o\n",
      "n\n"
     ]
    }
   ],
   "source": [
    "s=\"python\"\n",
    "for i in s:\n",
    "    if i=='h':\n",
    "        pass\n",
    "        print(\"pass executed\")\n",
    "    print(i)   "
   ]
  },
  {
   "cell_type": "markdown",
   "id": "2850e48a",
   "metadata": {},
   "source": [
    "### String\n",
    "- string is a group of characters\n",
    "- string is a derived datatype and immutable\n",
    "- string returns new value"
   ]
  },
  {
   "cell_type": "code",
   "execution_count": 13,
   "id": "4cfe8bdb",
   "metadata": {},
   "outputs": [
    {
     "name": "stdout",
     "output_type": "stream",
     "text": [
      "<class 'str'>\n"
     ]
    }
   ],
   "source": [
    "a=\"vasavicollege\"\n",
    "print(type(a))"
   ]
  },
  {
   "cell_type": "code",
   "execution_count": 11,
   "id": "38fb2c03",
   "metadata": {},
   "outputs": [
    {
     "name": "stdout",
     "output_type": "stream",
     "text": [
      "14\n"
     ]
    }
   ],
   "source": [
    "print(len(a))"
   ]
  },
  {
   "cell_type": "code",
   "execution_count": 14,
   "id": "c039d429",
   "metadata": {},
   "outputs": [
    {
     "name": "stdout",
     "output_type": "stream",
     "text": [
      "a\n",
      "v\n",
      "['a', 'a', 'c', 'e', 'e', 'g', 'i', 'l', 'l', 'o', 's', 'v', 'v']\n"
     ]
    },
    {
     "ename": "TypeError",
     "evalue": "unsupported operand type(s) for +: 'int' and 'str'",
     "output_type": "error",
     "traceback": [
      "\u001b[1;31m---------------------------------------------------------------------------\u001b[0m",
      "\u001b[1;31mTypeError\u001b[0m                                 Traceback (most recent call last)",
      "\u001b[1;32m~\\AppData\\Local\\Temp/ipykernel_3376/3612388894.py\u001b[0m in \u001b[0;36m<module>\u001b[1;34m\u001b[0m\n\u001b[0;32m      2\u001b[0m \u001b[0mprint\u001b[0m\u001b[1;33m(\u001b[0m\u001b[0mmax\u001b[0m\u001b[1;33m(\u001b[0m\u001b[0ma\u001b[0m\u001b[1;33m)\u001b[0m\u001b[1;33m)\u001b[0m\u001b[1;33m\u001b[0m\u001b[1;33m\u001b[0m\u001b[0m\n\u001b[0;32m      3\u001b[0m \u001b[0mprint\u001b[0m\u001b[1;33m(\u001b[0m\u001b[0msorted\u001b[0m\u001b[1;33m(\u001b[0m\u001b[0ma\u001b[0m\u001b[1;33m)\u001b[0m\u001b[1;33m)\u001b[0m\u001b[1;33m\u001b[0m\u001b[1;33m\u001b[0m\u001b[0m\n\u001b[1;32m----> 4\u001b[1;33m \u001b[0mprint\u001b[0m\u001b[1;33m(\u001b[0m\u001b[0msum\u001b[0m\u001b[1;33m(\u001b[0m\u001b[0ma\u001b[0m\u001b[1;33m)\u001b[0m\u001b[1;33m)\u001b[0m\u001b[1;33m\u001b[0m\u001b[1;33m\u001b[0m\u001b[0m\n\u001b[0m",
      "\u001b[1;31mTypeError\u001b[0m: unsupported operand type(s) for +: 'int' and 'str'"
     ]
    }
   ],
   "source": [
    "print(min(a))\n",
    "print(max(a))\n",
    "print(sorted(a))\n",
    "print(sum(a))"
   ]
  },
  {
   "cell_type": "code",
   "execution_count": 15,
   "id": "13ac40e4",
   "metadata": {},
   "outputs": [
    {
     "name": "stdout",
     "output_type": "stream",
     "text": [
      "pythonworkshop\n",
      "python workshop\n"
     ]
    },
    {
     "ename": "TypeError",
     "evalue": "can't multiply sequence by non-int of type 'str'",
     "output_type": "error",
     "traceback": [
      "\u001b[1;31m---------------------------------------------------------------------------\u001b[0m",
      "\u001b[1;31mTypeError\u001b[0m                                 Traceback (most recent call last)",
      "\u001b[1;32m~\\AppData\\Local\\Temp/ipykernel_3376/1439522826.py\u001b[0m in \u001b[0;36m<module>\u001b[1;34m\u001b[0m\n\u001b[0;32m      3\u001b[0m \u001b[0mprint\u001b[0m\u001b[1;33m(\u001b[0m\u001b[0ms\u001b[0m\u001b[1;33m+\u001b[0m\u001b[0ms1\u001b[0m\u001b[1;33m)\u001b[0m\u001b[1;33m\u001b[0m\u001b[1;33m\u001b[0m\u001b[0m\n\u001b[0;32m      4\u001b[0m \u001b[0mprint\u001b[0m\u001b[1;33m(\u001b[0m\u001b[0ms\u001b[0m\u001b[1;33m,\u001b[0m\u001b[0ms1\u001b[0m\u001b[1;33m)\u001b[0m\u001b[1;33m\u001b[0m\u001b[1;33m\u001b[0m\u001b[0m\n\u001b[1;32m----> 5\u001b[1;33m \u001b[0mprint\u001b[0m\u001b[1;33m(\u001b[0m\u001b[0ms\u001b[0m\u001b[1;33m*\u001b[0m\u001b[0ms1\u001b[0m\u001b[1;33m)\u001b[0m\u001b[1;33m\u001b[0m\u001b[1;33m\u001b[0m\u001b[0m\n\u001b[0m",
      "\u001b[1;31mTypeError\u001b[0m: can't multiply sequence by non-int of type 'str'"
     ]
    }
   ],
   "source": [
    "s=\"python\"\n",
    "s1=\"workshop\"\n",
    "print(s+s1)\n",
    "print(s,s1)\n",
    "print(s*s1)"
   ]
  },
  {
   "cell_type": "code",
   "execution_count": 19,
   "id": "902fa180",
   "metadata": {},
   "outputs": [
    {
     "name": "stdout",
     "output_type": "stream",
     "text": [
      "15\n",
      "p\n",
      "n\n",
      "p\n",
      "p\n",
      "o\n",
      "python workshop\n",
      "pohskrow nohtyp\n",
      "pyth\n",
      "n works\n",
      "\n"
     ]
    }
   ],
   "source": [
    "# slicing syntax:[start,end,step]\n",
    "# positive indexing[left to right]\n",
    "# negative indexing[right to left]\n",
    "s=\"python workshop\"\n",
    "print(len(s))\n",
    "print(s[0])\n",
    "print(s[5])\n",
    "print(s[14])\n",
    "print(s[-1])\n",
    "print(s[-2])\n",
    "print(s[::])\n",
    "print(s[::-1])\n",
    "print(s[0:4])\n",
    "print(s[5:12])\n",
    "print(s[-1:-5])"
   ]
  },
  {
   "cell_type": "raw",
   "id": "d040a92f",
   "metadata": {},
   "source": []
  },
  {
   "cell_type": "code",
   "execution_count": 2,
   "id": "8386838d",
   "metadata": {},
   "outputs": [
    {
     "data": {
      "text/plain": [
       "['__add__',\n",
       " '__class__',\n",
       " '__contains__',\n",
       " '__delattr__',\n",
       " '__dir__',\n",
       " '__doc__',\n",
       " '__eq__',\n",
       " '__format__',\n",
       " '__ge__',\n",
       " '__getattribute__',\n",
       " '__getitem__',\n",
       " '__getnewargs__',\n",
       " '__gt__',\n",
       " '__hash__',\n",
       " '__init__',\n",
       " '__init_subclass__',\n",
       " '__iter__',\n",
       " '__le__',\n",
       " '__len__',\n",
       " '__lt__',\n",
       " '__mod__',\n",
       " '__mul__',\n",
       " '__ne__',\n",
       " '__new__',\n",
       " '__reduce__',\n",
       " '__reduce_ex__',\n",
       " '__repr__',\n",
       " '__rmod__',\n",
       " '__rmul__',\n",
       " '__setattr__',\n",
       " '__sizeof__',\n",
       " '__str__',\n",
       " '__subclasshook__',\n",
       " 'capitalize',\n",
       " 'casefold',\n",
       " 'center',\n",
       " 'count',\n",
       " 'encode',\n",
       " 'endswith',\n",
       " 'expandtabs',\n",
       " 'find',\n",
       " 'format',\n",
       " 'format_map',\n",
       " 'index',\n",
       " 'isalnum',\n",
       " 'isalpha',\n",
       " 'isascii',\n",
       " 'isdecimal',\n",
       " 'isdigit',\n",
       " 'isidentifier',\n",
       " 'islower',\n",
       " 'isnumeric',\n",
       " 'isprintable',\n",
       " 'isspace',\n",
       " 'istitle',\n",
       " 'isupper',\n",
       " 'join',\n",
       " 'ljust',\n",
       " 'lower',\n",
       " 'lstrip',\n",
       " 'maketrans',\n",
       " 'partition',\n",
       " 'removeprefix',\n",
       " 'removesuffix',\n",
       " 'replace',\n",
       " 'rfind',\n",
       " 'rindex',\n",
       " 'rjust',\n",
       " 'rpartition',\n",
       " 'rsplit',\n",
       " 'rstrip',\n",
       " 'split',\n",
       " 'splitlines',\n",
       " 'startswith',\n",
       " 'strip',\n",
       " 'swapcase',\n",
       " 'title',\n",
       " 'translate',\n",
       " 'upper',\n",
       " 'zfill']"
      ]
     },
     "execution_count": 2,
     "metadata": {},
     "output_type": "execute_result"
    }
   ],
   "source": [
    "dir(str)"
   ]
  },
  {
   "cell_type": "code",
   "execution_count": 8,
   "id": "f7dcc61b",
   "metadata": {},
   "outputs": [
    {
     "name": "stdout",
     "output_type": "stream",
     "text": [
      " i am from\n",
      "vasavi\n",
      " i am divya\n"
     ]
    }
   ],
   "source": [
    "s=\"vasavi college\"\n",
    "s='vasavi college'\n",
    "s1=''' i am from\n",
    "vasavi\n",
    " i am divya'''\n",
    "s2=\"\"\"\"engineering\n",
    "department\"\"\"\n",
    "print(s1)"
   ]
  },
  {
   "cell_type": "code",
   "execution_count": 9,
   "id": "91313212",
   "metadata": {},
   "outputs": [
    {
     "name": "stdout",
     "output_type": "stream",
     "text": [
      "23\n"
     ]
    }
   ],
   "source": [
    "print(len(s2))"
   ]
  },
  {
   "cell_type": "code",
   "execution_count": 10,
   "id": "194d5e32",
   "metadata": {},
   "outputs": [
    {
     "name": "stdout",
     "output_type": "stream",
     "text": [
      "23\n"
     ]
    }
   ],
   "source": [
    "print(len(s2))"
   ]
  },
  {
   "cell_type": "code",
   "execution_count": 15,
   "id": "05eb6ddb",
   "metadata": {},
   "outputs": [
    {
     "name": "stdout",
     "output_type": "stream",
     "text": [
      "upper case\n",
      "UPPER CASE\n",
      "upper case\n"
     ]
    }
   ],
   "source": [
    "n=\"upper case\"\n",
    "print(n)\n",
    "print(n.upper())\n",
    "print(n.lower())"
   ]
  },
  {
   "cell_type": "code",
   "execution_count": null,
   "id": "f607f494",
   "metadata": {},
   "outputs": [],
   "source": [
    "s2=\"workshop\"\n",
    "s3=\"workshop\"\n",
    "s4=\"workshop\"\n",
    "print(s2 islower(),s3 isupper"
   ]
  },
  {
   "cell_type": "code",
   "execution_count": 19,
   "id": "e31d90b0",
   "metadata": {},
   "outputs": [
    {
     "data": {
      "text/plain": [
       "True"
      ]
     },
     "execution_count": 19,
     "metadata": {},
     "output_type": "execute_result"
    }
   ],
   "source": [
    "s7=\"India Is My Country\"\n",
    "s7. istitle()"
   ]
  },
  {
   "cell_type": "code",
   "execution_count": 20,
   "id": "58595f3f",
   "metadata": {},
   "outputs": [
    {
     "data": {
      "text/plain": [
       "False"
      ]
     },
     "execution_count": 20,
     "metadata": {},
     "output_type": "execute_result"
    }
   ],
   "source": [
    "s7=\"india is my country\"\n",
    "s7.istitle()"
   ]
  },
  {
   "cell_type": "code",
   "execution_count": 23,
   "id": "6402366f",
   "metadata": {},
   "outputs": [
    {
     "data": {
      "text/plain": [
       "False"
      ]
     },
     "execution_count": 23,
     "metadata": {},
     "output_type": "execute_result"
    }
   ],
   "source": [
    "# isdigit which is used to identify the digit in a given string\n",
    "# isalpha which returns true alphapets present in a given string\n",
    "r=\"python3\"\n",
    "r.isalpha()"
   ]
  },
  {
   "cell_type": "code",
   "execution_count": 24,
   "id": "ff80baf8",
   "metadata": {},
   "outputs": [
    {
     "data": {
      "text/plain": [
       "False"
      ]
     },
     "execution_count": 24,
     "metadata": {},
     "output_type": "execute_result"
    }
   ],
   "source": [
    "r.isdigit()"
   ]
  },
  {
   "cell_type": "code",
   "execution_count": 25,
   "id": "edf1ea8e",
   "metadata": {},
   "outputs": [
    {
     "data": {
      "text/plain": [
       "True"
      ]
     },
     "execution_count": 25,
     "metadata": {},
     "output_type": "execute_result"
    }
   ],
   "source": [
    "s=\"123456\"\n",
    "s.isalnum()"
   ]
  },
  {
   "cell_type": "code",
   "execution_count": 26,
   "id": "299517e0",
   "metadata": {},
   "outputs": [
    {
     "data": {
      "text/plain": [
       "['python3', 'is', 'latest', 'version', 'and', 'today', 'is', 'thursday']"
      ]
     },
     "execution_count": 26,
     "metadata": {},
     "output_type": "execute_result"
    }
   ],
   "source": [
    "s=\"python3 is latest version and today is thursday\"\n",
    "s.split()"
   ]
  },
  {
   "cell_type": "code",
   "execution_count": 28,
   "id": "efd918f5",
   "metadata": {},
   "outputs": [
    {
     "data": {
      "text/plain": [
       "['python3@is@latest@version@and@today@is', '@thursday']"
      ]
     },
     "execution_count": 28,
     "metadata": {},
     "output_type": "execute_result"
    }
   ],
   "source": [
    "s=\"python3@is@latest@version@and@today@is @thursday\"\n",
    "s.split()"
   ]
  },
  {
   "cell_type": "code",
   "execution_count": 29,
   "id": "303f077c",
   "metadata": {},
   "outputs": [
    {
     "data": {
      "text/plain": [
       "['python3 is ', 'atest version and today is thursday']"
      ]
     },
     "execution_count": 29,
     "metadata": {},
     "output_type": "execute_result"
    }
   ],
   "source": [
    "s=\"python3 is latest version and today is thursday\"\n",
    "s.split('l')"
   ]
  },
  {
   "cell_type": "code",
   "execution_count": 34,
   "id": "8be55c94",
   "metadata": {},
   "outputs": [
    {
     "name": "stdout",
     "output_type": "stream",
     "text": [
      "india is my countrypytHONpytHON\n"
     ]
    }
   ],
   "source": [
    "s=\"PYThon\"\n",
    "S7=\" \"\n",
    "for i in s:\n",
    "    if i.islower():\n",
    "        s7 +=i.upper()\n",
    "    else:\n",
    "        s7 +=i.lower()\n",
    "print(s7)        \n",
    "        "
   ]
  },
  {
   "cell_type": "code",
   "execution_count": 35,
   "id": "44bc7520",
   "metadata": {},
   "outputs": [
    {
     "data": {
      "text/plain": [
       "'pytHON'"
      ]
     },
     "execution_count": 35,
     "metadata": {},
     "output_type": "execute_result"
    }
   ],
   "source": [
    "# swapcase \n",
    "s.swapcase()"
   ]
  },
  {
   "cell_type": "code",
   "execution_count": 36,
   "id": "8de6a37a",
   "metadata": {},
   "outputs": [
    {
     "data": {
      "text/plain": [
       "'python3 is latest version and today is thursday'"
      ]
     },
     "execution_count": 36,
     "metadata": {},
     "output_type": "execute_result"
    }
   ],
   "source": [
    "s=\"python3 is latest version and today is thursday\"\n",
    "s"
   ]
  },
  {
   "cell_type": "code",
   "execution_count": 38,
   "id": "bdfda68e",
   "metadata": {},
   "outputs": [
    {
     "data": {
      "text/plain": [
       "5"
      ]
     },
     "execution_count": 38,
     "metadata": {},
     "output_type": "execute_result"
    }
   ],
   "source": [
    "# count:: is known as no .of occurances\n",
    "s.count('s')"
   ]
  },
  {
   "cell_type": "code",
   "execution_count": 41,
   "id": "7394d763",
   "metadata": {},
   "outputs": [
    {
     "data": {
      "text/plain": [
       "12"
      ]
     },
     "execution_count": 41,
     "metadata": {},
     "output_type": "execute_result"
    }
   ],
   "source": [
    "s.index('a')# searching starts from begining"
   ]
  },
  {
   "cell_type": "code",
   "execution_count": 42,
   "id": "81cda4a5",
   "metadata": {},
   "outputs": [
    {
     "data": {
      "text/plain": [
       "45"
      ]
     },
     "execution_count": 42,
     "metadata": {},
     "output_type": "execute_result"
    }
   ],
   "source": [
    "s.rindex('a') # searching starts from ending"
   ]
  },
  {
   "cell_type": "code",
   "execution_count": 45,
   "id": "7c65a54c",
   "metadata": {},
   "outputs": [
    {
     "data": {
      "text/plain": [
       "2"
      ]
     },
     "execution_count": 45,
     "metadata": {},
     "output_type": "execute_result"
    }
   ],
   "source": [
    "# find it will return index position of that character\n",
    "s.find('t')  "
   ]
  },
  {
   "cell_type": "code",
   "execution_count": 46,
   "id": "8dddd663",
   "metadata": {},
   "outputs": [
    {
     "data": {
      "text/plain": [
       "8"
      ]
     },
     "execution_count": 46,
     "metadata": {},
     "output_type": "execute_result"
    }
   ],
   "source": [
    "s.index('is')"
   ]
  },
  {
   "cell_type": "code",
   "execution_count": 48,
   "id": "84b99133",
   "metadata": {},
   "outputs": [
    {
     "data": {
      "text/plain": [
       "'hi vasavi college'"
      ]
     },
     "execution_count": 48,
     "metadata": {},
     "output_type": "execute_result"
    }
   ],
   "source": [
    "# replace used to replace old character\n",
    "# strip used to remove white spaces by default\n",
    "d=\"bye vasavi college\"\n",
    "d.replace('bye','hi')"
   ]
  },
  {
   "cell_type": "code",
   "execution_count": 55,
   "id": "bc64fb25",
   "metadata": {},
   "outputs": [
    {
     "data": {
      "text/plain": [
       "'hello sd'"
      ]
     },
     "execution_count": 55,
     "metadata": {},
     "output_type": "execute_result"
    }
   ],
   "source": [
    "d=\"       hello sd\"\n",
    "d.lstrip()"
   ]
  },
  {
   "cell_type": "code",
   "execution_count": 56,
   "id": "c243ba14",
   "metadata": {},
   "outputs": [
    {
     "data": {
      "text/plain": [
       "'hello sd'"
      ]
     },
     "execution_count": 56,
     "metadata": {},
     "output_type": "execute_result"
    }
   ],
   "source": [
    "d=\"hello sd        \"\n",
    "d.rstrip()"
   ]
  },
  {
   "cell_type": "code",
   "execution_count": 62,
   "id": "f8cc1a10",
   "metadata": {},
   "outputs": [
    {
     "data": {
      "text/plain": [
       "'t@h@u@r@s@d@a@y'"
      ]
     },
     "execution_count": 62,
     "metadata": {},
     "output_type": "execute_result"
    }
   ],
   "source": [
    "# join\n",
    "# center\n",
    "# startwith\n",
    "# endwith\n",
    "s=\"thursday\"\n",
    "'@'.join(s)"
   ]
  },
  {
   "cell_type": "code",
   "execution_count": 63,
   "id": "5b9d33ed",
   "metadata": {},
   "outputs": [
    {
     "data": {
      "text/plain": [
       "'t.h.u.r.s.d.a.y'"
      ]
     },
     "execution_count": 63,
     "metadata": {},
     "output_type": "execute_result"
    }
   ],
   "source": [
    "s=\"thursday\"\n",
    "'.'.join(s)"
   ]
  },
  {
   "cell_type": "code",
   "execution_count": 66,
   "id": "1ee44307",
   "metadata": {},
   "outputs": [
    {
     "data": {
      "text/plain": [
       "'000000000today is 3rd day'"
      ]
     },
     "execution_count": 66,
     "metadata": {},
     "output_type": "execute_result"
    }
   ],
   "source": [
    "s2=\"today is 3rd day\"\n",
    "len(s2)\n",
    "s2.zfill(25)\n"
   ]
  },
  {
   "cell_type": "code",
   "execution_count": 69,
   "id": "1f717668",
   "metadata": {},
   "outputs": [
    {
     "data": {
      "text/plain": [
       "False"
      ]
     },
     "execution_count": 69,
     "metadata": {},
     "output_type": "execute_result"
    }
   ],
   "source": [
    "s2.startswith('day')"
   ]
  },
  {
   "cell_type": "code",
   "execution_count": 70,
   "id": "fd769250",
   "metadata": {},
   "outputs": [
    {
     "data": {
      "text/plain": [
       "True"
      ]
     },
     "execution_count": 70,
     "metadata": {},
     "output_type": "execute_result"
    }
   ],
   "source": [
    "s2.endswith('day')"
   ]
  },
  {
   "cell_type": "markdown",
   "id": "a0aa33b2",
   "metadata": {},
   "source": [
    "### Data structures\n",
    "- list\n",
    "  - it is one of data structures in python\n",
    "  - list is mutable\n",
    "  - represents with []\n",
    "  - string indexing are same as the string concepts\n",
    "- tuple\n",
    "- dictionaries\n",
    "DT are two types:\n",
    "  - mutable\n",
    "     - we cannot change  at any line after it declared after its declaration\n",
    "     - ex:list,dictionaries\n",
    "   - immutable\n",
    "     - we can change it once it declared\n",
    "     - ex:string,tuple\n"
   ]
  },
  {
   "cell_type": "code",
   "execution_count": 71,
   "id": "c1a1bb16",
   "metadata": {},
   "outputs": [
    {
     "name": "stdout",
     "output_type": "stream",
     "text": [
      "[1, 2, 3, 4, 5]\n"
     ]
    }
   ],
   "source": [
    "li=[1,2,3,4,5]\n",
    "print(li)"
   ]
  },
  {
   "cell_type": "code",
   "execution_count": 72,
   "id": "b5685673",
   "metadata": {},
   "outputs": [
    {
     "data": {
      "text/plain": [
       "5"
      ]
     },
     "execution_count": 72,
     "metadata": {},
     "output_type": "execute_result"
    }
   ],
   "source": [
    "len(li)"
   ]
  },
  {
   "cell_type": "code",
   "execution_count": 73,
   "id": "20f46f38",
   "metadata": {},
   "outputs": [
    {
     "name": "stdout",
     "output_type": "stream",
     "text": [
      "length of the list 5\n",
      "max of the list 5\n",
      "min of the list 1\n"
     ]
    }
   ],
   "source": [
    "print(\"length of the list\",len(li))\n",
    "print(\"max of the list\",max(li))\n",
    "print(\"min of the list\",min(li))"
   ]
  },
  {
   "cell_type": "code",
   "execution_count": 76,
   "id": "1a01a7c0",
   "metadata": {},
   "outputs": [
    {
     "name": "stdout",
     "output_type": "stream",
     "text": [
      "['apple', 5, 24.7] [5, 0, 'today']\n"
     ]
    }
   ],
   "source": [
    "a=['apple',5,24.7]\n",
    "b=[5,0,'today']\n",
    "print(a,b)"
   ]
  },
  {
   "cell_type": "code",
   "execution_count": 77,
   "id": "2f17c6c2",
   "metadata": {},
   "outputs": [
    {
     "data": {
      "text/plain": [
       "['apple', 5, 24.7, 5, 0, 'today']"
      ]
     },
     "execution_count": 77,
     "metadata": {},
     "output_type": "execute_result"
    }
   ],
   "source": [
    "a+b"
   ]
  },
  {
   "cell_type": "code",
   "execution_count": 85,
   "id": "31462ae7",
   "metadata": {},
   "outputs": [
    {
     "data": {
      "text/plain": [
       "[5, 0, 'today', 'apple', 5, 24.7]"
      ]
     },
     "execution_count": 85,
     "metadata": {},
     "output_type": "execute_result"
    }
   ],
   "source": [
    "b+a"
   ]
  },
  {
   "cell_type": "code",
   "execution_count": 88,
   "id": "540c982d",
   "metadata": {},
   "outputs": [
    {
     "data": {
      "text/plain": [
       "False"
      ]
     },
     "execution_count": 88,
     "metadata": {},
     "output_type": "execute_result"
    }
   ],
   "source": [
    "'apple' not in a"
   ]
  },
  {
   "cell_type": "code",
   "execution_count": 91,
   "id": "13e68e2c",
   "metadata": {},
   "outputs": [
    {
     "data": {
      "text/plain": [
       "True"
      ]
     },
     "execution_count": 91,
     "metadata": {},
     "output_type": "execute_result"
    }
   ],
   "source": [
    "'today' in b"
   ]
  },
  {
   "cell_type": "code",
   "execution_count": 93,
   "id": "edc6f4aa",
   "metadata": {},
   "outputs": [
    {
     "data": {
      "text/plain": [
       "'mahi'"
      ]
     },
     "execution_count": 93,
     "metadata": {},
     "output_type": "execute_result"
    }
   ],
   "source": [
    "name=['divya','jyothi','snehaja','mahi','valli','dhana']\n",
    "name[3]      "
   ]
  },
  {
   "cell_type": "code",
   "execution_count": 94,
   "id": "e0c71472",
   "metadata": {},
   "outputs": [
    {
     "data": {
      "text/plain": [
       "'divya'"
      ]
     },
     "execution_count": 94,
     "metadata": {},
     "output_type": "execute_result"
    }
   ],
   "source": [
    "name[0]"
   ]
  },
  {
   "cell_type": "code",
   "execution_count": 96,
   "id": "ed886ef1",
   "metadata": {},
   "outputs": [
    {
     "data": {
      "text/plain": [
       "'dhana'"
      ]
     },
     "execution_count": 96,
     "metadata": {},
     "output_type": "execute_result"
    }
   ],
   "source": [
    "name[5]"
   ]
  },
  {
   "cell_type": "code",
   "execution_count": 97,
   "id": "5dc365ed",
   "metadata": {},
   "outputs": [
    {
     "data": {
      "text/plain": [
       "['divya', 'jyothi', 'snehaja']"
      ]
     },
     "execution_count": 97,
     "metadata": {},
     "output_type": "execute_result"
    }
   ],
   "source": [
    "name[:3]"
   ]
  },
  {
   "cell_type": "code",
   "execution_count": 99,
   "id": "cd8d257e",
   "metadata": {},
   "outputs": [
    {
     "data": {
      "text/plain": [
       "'iya'"
      ]
     },
     "execution_count": 99,
     "metadata": {},
     "output_type": "execute_result"
    }
   ],
   "source": [
    "s='priya'\n",
    "s[0]\n",
    "s[:3]\n",
    "s[0:3]\n",
    "s[2:0]\n",
    "s[2:]"
   ]
  },
  {
   "cell_type": "code",
   "execution_count": 100,
   "id": "698d9e93",
   "metadata": {},
   "outputs": [
    {
     "data": {
      "text/plain": [
       "['students', 'hostel']"
      ]
     },
     "execution_count": 100,
     "metadata": {},
     "output_type": "execute_result"
    }
   ],
   "source": [
    "li1=['vasavi','college','students','hostel']\n",
    "li1[2:]"
   ]
  },
  {
   "cell_type": "code",
   "execution_count": 101,
   "id": "1b0f80b1",
   "metadata": {},
   "outputs": [
    {
     "data": {
      "text/plain": [
       "['vasavi', 'college', 'students']"
      ]
     },
     "execution_count": 101,
     "metadata": {},
     "output_type": "execute_result"
    }
   ],
   "source": [
    "li1[:3]"
   ]
  },
  {
   "cell_type": "code",
   "execution_count": 102,
   "id": "2bad5a7d",
   "metadata": {},
   "outputs": [
    {
     "data": {
      "text/plain": [
       "'vasavi'"
      ]
     },
     "execution_count": 102,
     "metadata": {},
     "output_type": "execute_result"
    }
   ],
   "source": [
    "li1[0]"
   ]
  },
  {
   "cell_type": "code",
   "execution_count": 104,
   "id": "6878357b",
   "metadata": {},
   "outputs": [
    {
     "data": {
      "text/plain": [
       "['vasavi', 'college', 'students']"
      ]
     },
     "execution_count": 104,
     "metadata": {},
     "output_type": "execute_result"
    }
   ],
   "source": [
    "li1[0:3]"
   ]
  },
  {
   "cell_type": "code",
   "execution_count": null,
   "id": "cdc16731",
   "metadata": {},
   "outputs": [],
   "source": []
  }
 ],
 "metadata": {
  "kernelspec": {
   "display_name": "Python 3 (ipykernel)",
   "language": "python",
   "name": "python3"
  },
  "language_info": {
   "codemirror_mode": {
    "name": "ipython",
    "version": 3
   },
   "file_extension": ".py",
   "mimetype": "text/x-python",
   "name": "python",
   "nbconvert_exporter": "python",
   "pygments_lexer": "ipython3",
   "version": "3.9.7"
  }
 },
 "nbformat": 4,
 "nbformat_minor": 5
}
