{
 "cells": [
  {
   "cell_type": "markdown",
   "id": "640ed183",
   "metadata": {},
   "source": [
    "### file handling\n",
    "- file: file is a name location or memory used to store relative information\n",
    "- ex: .py,.html,.ipynb,.mp4\n",
    "- file handling: it allows user to handle files\n",
    "- compare to others programing languages in the file handling is easy in python\n",
    "- read and write files along with the other files handle options to work on file\n",
    "\n",
    "1. steps of the handling\n",
    "   - open file\n",
    "   - doing operations\n",
    "   - close a file\n",
    "- open function()\n",
    "  - we use open fun() in python to open the file in read and write\n",
    "  - to written a object we use in open function() along 2 arguments\n",
    "  - syntax::open(filename.mode)\n",
    "  \n",
    "- modes are 3 types to open a file\n",
    "  - read()-----'r'----> to read a file\n",
    "    - file_variable.read(size)\n",
    "  - write()----'w'---> to write a file\n",
    "    - file_variable.writte(data)\n",
    "  - append()---'a'---> to add a information to a file\n",
    "    - file_variable>append(data)\n",
    "    \n",
    "- by default the file will be open as'r' mode\n",
    "- close()\n",
    "- it is used to close a file\n",
    "- every time you have to close a file at the end of the operations otherwise the changes will not applicable\n",
    "  \n",
    "  \n",
    "   "
   ]
  },
  {
   "cell_type": "code",
   "execution_count": 2,
   "id": "074c673e",
   "metadata": {},
   "outputs": [
    {
     "name": "stdout",
     "output_type": "stream",
     "text": [
      "succesfully opened\n"
     ]
    }
   ],
   "source": [
    "f=open(\"data.txt\",'r')\n",
    "if f:\n",
    "    print(\"succesfully opened\")\n",
    "else:\n",
    "    print(\"failed\")"
   ]
  },
  {
   "cell_type": "code",
   "execution_count": 3,
   "id": "29d8d984",
   "metadata": {},
   "outputs": [
    {
     "name": "stdout",
     "output_type": "stream",
     "text": [
      " Good morning,welcome vasavi students\n"
     ]
    }
   ],
   "source": [
    "# read\n",
    "f=open(\"data.txt\",'r')\n",
    "print(f.read())\n",
    "f.close()"
   ]
  },
  {
   "cell_type": "code",
   "execution_count": 6,
   "id": "ef3d4629",
   "metadata": {},
   "outputs": [
    {
     "name": "stdout",
     "output_type": "stream",
     "text": [
      " Good morning,welcome vasavi students\n"
     ]
    }
   ],
   "source": [
    "# using with keyword automatically file will be close\n",
    "with open(\"data.txt\") as f:\n",
    "         fr=f.read()\n",
    "         print(fr)  \n",
    "    "
   ]
  },
  {
   "cell_type": "code",
   "execution_count": 7,
   "id": "cf557e10",
   "metadata": {},
   "outputs": [
    {
     "name": "stdout",
     "output_type": "stream",
     "text": [
      " Good \n"
     ]
    }
   ],
   "source": [
    "f=open(\"data.txt\",'r')\n",
    "print(f.read(6))\n",
    "f.close()\n"
   ]
  },
  {
   "cell_type": "code",
   "execution_count": 9,
   "id": "c53852c5",
   "metadata": {},
   "outputs": [
    {
     "name": "stdout",
     "output_type": "stream",
     "text": [
      "18\n"
     ]
    }
   ],
   "source": [
    "f=open(\"data1.txt\",'w')\n",
    "fr=f.write(\"python programming\")\n",
    "print(fr)\n",
    "f.close()"
   ]
  },
  {
   "cell_type": "markdown",
   "id": "c201ce5b",
   "metadata": {},
   "source": [
    "### File handling methods\n",
    "- open()\n",
    "- read()\n",
    "- write()\n",
    "- close()\n",
    "- readline()\n",
    "- readlines()\n",
    "- seek()\n",
    "- tell()\n",
    " types of modes\n",
    " - read()--->'r'\n",
    " - write()---> 'w'\n",
    " - append()---> 'a'"
   ]
  },
  {
   "cell_type": "code",
   "execution_count": 13,
   "id": "e1d3aff2",
   "metadata": {},
   "outputs": [],
   "source": [
    "f=open(\"data.txt\")"
   ]
  },
  {
   "cell_type": "markdown",
   "id": "6c7f5565",
   "metadata": {},
   "source": [
    "# write mode()\n",
    "- it is used to write something in file\n",
    "- if file is not their in directory\n",
    "- the file will be created with data will be written in that file"
   ]
  },
  {
   "cell_type": "code",
   "execution_count": 15,
   "id": "53334165",
   "metadata": {},
   "outputs": [],
   "source": [
    "f=open(\"data.txt\",'w')\n"
   ]
  },
  {
   "cell_type": "code",
   "execution_count": 17,
   "id": "01091644",
   "metadata": {},
   "outputs": [
    {
     "data": {
      "text/plain": [
       "6"
      ]
     },
     "execution_count": 17,
     "metadata": {},
     "output_type": "execute_result"
    }
   ],
   "source": [
    "f.write(\"gudbye\")"
   ]
  },
  {
   "cell_type": "code",
   "execution_count": 19,
   "id": "4ce34b52",
   "metadata": {},
   "outputs": [
    {
     "data": {
      "text/plain": [
       "18"
      ]
     },
     "execution_count": 19,
     "metadata": {},
     "output_type": "execute_result"
    }
   ],
   "source": [
    "f=open(\"data.txt\",'a')\n",
    "f.write(\"welcome to college\")"
   ]
  },
  {
   "cell_type": "code",
   "execution_count": 20,
   "id": "4c1283cc",
   "metadata": {},
   "outputs": [
    {
     "name": "stdout",
     "output_type": "stream",
     "text": [
      "<_io.TextIOWrapper name='data.txt' mode='a' encoding='cp1252'>\n"
     ]
    }
   ],
   "source": [
    "print(f)"
   ]
  },
  {
   "cell_type": "code",
   "execution_count": 21,
   "id": "3b8d2793",
   "metadata": {},
   "outputs": [
    {
     "name": "stdout",
     "output_type": "stream",
     "text": [
      "gudbyewelcome to college\n",
      "[]\n"
     ]
    }
   ],
   "source": [
    "f=open(\"data.txt\",'r')\n",
    "s=f.readline()\n",
    "print(s)\n",
    "t=f.readlines()\n",
    "print(t)"
   ]
  },
  {
   "cell_type": "code",
   "execution_count": 24,
   "id": "33bd8ce9",
   "metadata": {},
   "outputs": [
    {
     "name": "stdout",
     "output_type": "stream",
     "text": [
      "number of lines in the file: 1\n"
     ]
    }
   ],
   "source": [
    "with open(\"data.txt\",'r') as f:\n",
    "    no_of_lines=f.readlines()\n",
    "    print(\"number of lines in the file:\",len(no_of_lines))"
   ]
  },
  {
   "cell_type": "code",
   "execution_count": 25,
   "id": "93cf2e12",
   "metadata": {},
   "outputs": [
    {
     "name": "stdout",
     "output_type": "stream",
     "text": [
      "number of line in the file: 24\n"
     ]
    }
   ],
   "source": [
    "with open(\"data.txt\",'r') as f:\n",
    "    no_of_line=f.readline()\n",
    "    print(\"number of line in the file:\",len(no_of_line))"
   ]
  },
  {
   "cell_type": "code",
   "execution_count": 30,
   "id": "10dad234",
   "metadata": {},
   "outputs": [
    {
     "name": "stdout",
     "output_type": "stream",
     "text": [
      "number of words are: 3\n"
     ]
    }
   ],
   "source": [
    "# no of words in the  given file\n",
    "words=0\n",
    "for line in no_of_lines:\n",
    "    words_list=line.split()\n",
    "    words=len(words_list)\n",
    "print(\"number of words are:\",words)    "
   ]
  },
  {
   "cell_type": "markdown",
   "id": "a8f428c8",
   "metadata": {},
   "source": [
    "### Functions\n",
    "- built in function\n",
    "   - already existed\n",
    "   - print(),len(),int(),input()\n",
    "- use defined function\n",
    "   - which are defined by user\n",
    "   - ex:any user can create a function"
   ]
  },
  {
   "cell_type": "markdown",
   "id": "8e61f3fd",
   "metadata": {},
   "source": [
    "syntax for functions::\n",
    "def function_name(arguments): # function definition\n",
    "    statement1\n",
    "    statementn\n",
    "function_name(parameters):# function calling    "
   ]
  },
  {
   "cell_type": "code",
   "execution_count": null,
   "id": "1518e794",
   "metadata": {},
   "outputs": [],
   "source": []
  },
  {
   "cell_type": "code",
   "execution_count": 4,
   "id": "9e65a4a4",
   "metadata": {},
   "outputs": [
    {
     "name": "stdout",
     "output_type": "stream",
     "text": [
      "3\n",
      "odd\n"
     ]
    }
   ],
   "source": [
    "def even_odd(x):\n",
    "    if x%2==0:\n",
    "        print(\"even\")\n",
    "    else:\n",
    "        print(\"odd\")\n",
    "even_odd(int(input()))        "
   ]
  },
  {
   "cell_type": "code",
   "execution_count": 10,
   "id": "0e33b587",
   "metadata": {},
   "outputs": [
    {
     "name": "stdout",
     "output_type": "stream",
     "text": [
      "5\n",
      "not prime\n"
     ]
    }
   ],
   "source": [
    "# prime number\n",
    "def prime_check(n):\n",
    "    count=0\n",
    "    for i in range(1,n+1):\n",
    "        if n%2==0:\n",
    "            count+=1\n",
    "    if count==2:\n",
    "        print(\"prime number\")\n",
    "    else:\n",
    "        print(\"not prime\")\n",
    "prime_check(int(input()))"
   ]
  },
  {
   "cell_type": "code",
   "execution_count": null,
   "id": "2c9bc7ad",
   "metadata": {},
   "outputs": [],
   "source": [
    "def is_prime(n):\n",
    "    for i in range(1,n+1):\n",
    "        if n%1==0:\n",
    "            return false\n",
    "        return true\n",
    "is_prime(int(input()))"
   ]
  },
  {
   "cell_type": "code",
   "execution_count": 9,
   "id": "dab64493",
   "metadata": {},
   "outputs": [
    {
     "name": "stdout",
     "output_type": "stream",
     "text": [
      "7\n",
      "sum of the factor: 1\n",
      "not a perfect number\n"
     ]
    }
   ],
   "source": [
    "# perfect number::given number is equals to the sum of factors of that number \n",
    "def perfect_num(a):\n",
    "    fact_sum=0\n",
    "    for i in range(1,a):\n",
    "        if a%i==0:\n",
    "            fact_sum=fact_sum+i\n",
    "    print(\"sum of the factor:\",fact_sum)\n",
    "    if a==fact_sum:\n",
    "            print(\"perfect number\")\n",
    "    else:\n",
    "            print(\"not a perfect number\")\n",
    "perfect_num(int(input()))            \n",
    "        \n",
    "    "
   ]
  },
  {
   "cell_type": "markdown",
   "id": "cbd080d9",
   "metadata": {},
   "source": [
    "- comprehensions\n",
    "- iterators and generators\n",
    "- functional programming\n",
    "\n",
    "#### comprehensions\n",
    "- it is a program of creating new sequence from existing sequence\n",
    "- advantages::less code easy to understand\n",
    "- types\n",
    "   - list comprehensions\n",
    "   - dictionary comprehensions\n",
    "   - set comprehensions\n",
    "   - generator comprehensions\n",
    "- list comprehensions\n",
    "   - easy way to create more efficient and also run faster\n",
    "   - syntax::[expression for item in list if condition]\n",
    "\n"
   ]
  },
  {
   "cell_type": "code",
   "execution_count": null,
   "id": "a2da90bf",
   "metadata": {},
   "outputs": [],
   "source": [
    "# normal list syntax:\n",
    "for item in list:\n",
    "    if condition:\n",
    "        print(\" \")"
   ]
  },
  {
   "cell_type": "code",
   "execution_count": 16,
   "id": "cd43f5d1",
   "metadata": {},
   "outputs": [
    {
     "name": "stdout",
     "output_type": "stream",
     "text": [
      "[1, 2, 3, 4, 5, 6]\n"
     ]
    }
   ],
   "source": [
    "li=[1,2,3,4,5,6]\n",
    "for i in range(1,2):\n",
    "    print(li)"
   ]
  },
  {
   "cell_type": "code",
   "execution_count": 17,
   "id": "0a56a4c9",
   "metadata": {},
   "outputs": [
    {
     "name": "stdout",
     "output_type": "stream",
     "text": [
      "[1, 2, 3, 4, 5, 6, 7, 8, 9, 10]\n"
     ]
    }
   ],
   "source": [
    "li=[]\n",
    "for i in range (1,11):\n",
    "    li.append(i)\n",
    "print(li)   "
   ]
  },
  {
   "cell_type": "code",
   "execution_count": 18,
   "id": "83eb5513",
   "metadata": {},
   "outputs": [
    {
     "name": "stdout",
     "output_type": "stream",
     "text": [
      "[1, 2, 3, 4, 5, 6, 7, 8, 9, 10]\n"
     ]
    }
   ],
   "source": [
    "li=[i for i in range(1,11)]\n",
    "print(li)"
   ]
  },
  {
   "cell_type": "code",
   "execution_count": 19,
   "id": "5b970470",
   "metadata": {},
   "outputs": [
    {
     "name": "stdout",
     "output_type": "stream",
     "text": [
      "[5, 10, 15, 20, 25, 30, 35, 40, 45, 50]\n"
     ]
    }
   ],
   "source": [
    "li=[i*5for i in range(1,11)]\n",
    "print(li)"
   ]
  },
  {
   "cell_type": "code",
   "execution_count": 21,
   "id": "99421161",
   "metadata": {},
   "outputs": [
    {
     "name": "stdout",
     "output_type": "stream",
     "text": [
      "[2, 4, 6, 8, 10]\n"
     ]
    }
   ],
   "source": [
    "li=[i for i in range(1,11) if i%2==0]\n",
    "print(li)"
   ]
  },
  {
   "cell_type": "code",
   "execution_count": 36,
   "id": "25452ac0",
   "metadata": {},
   "outputs": [
    {
     "name": "stdout",
     "output_type": "stream",
     "text": [
      "['odd', 2, 'odd', 4, 'odd', 6, 'odd', 8, 'odd', 10]\n"
     ]
    }
   ],
   "source": [
    "li=([i if i%2==0 else \"odd\" for i in range(1,11)])\n",
    "print(li)\n"
   ]
  },
  {
   "cell_type": "code",
   "execution_count": 38,
   "id": "5913ed9d",
   "metadata": {},
   "outputs": [
    {
     "name": "stdout",
     "output_type": "stream",
     "text": [
      "[(1, 'odd'), (2, 'even'), (3, 'odd'), (4, 'even'), (5, 'odd'), (6, 'even'), (7, 'odd'), (8, 'even'), (9, 'odd'), (10, 'even')]\n"
     ]
    }
   ],
   "source": [
    "li=[ (i,\"even\") if i%2==0 else (i,\"odd\") for i in range(1,11)]\n",
    "print(li)"
   ]
  },
  {
   "cell_type": "code",
   "execution_count": null,
   "id": "ec6f2779",
   "metadata": {},
   "outputs": [],
   "source": []
  },
  {
   "cell_type": "code",
   "execution_count": 35,
   "id": "be13c8bb",
   "metadata": {},
   "outputs": [
    {
     "name": "stdout",
     "output_type": "stream",
     "text": [
      "['stay', 'home', 'stay', 'safe']\n"
     ]
    }
   ],
   "source": [
    "a=[\"stay home\",\"stay safe\"]\n",
    "li=[]\n",
    "for i in a:\n",
    "    for j in i.split():\n",
    "        li.append(j)\n",
    "print(li)        \n",
    "        "
   ]
  },
  {
   "cell_type": "code",
   "execution_count": 2,
   "id": "2a323908",
   "metadata": {},
   "outputs": [
    {
     "data": {
      "text/plain": [
       "[[1, 2, 3, 4, 5, 6, 7, 8, 9, 10],\n",
       " [2, 4, 6, 8, 10, 12, 14, 16, 18, 20],\n",
       " [3, 6, 9, 12, 15, 18, 21, 24, 27, 30],\n",
       " [4, 8, 12, 16, 20, 24, 28, 32, 36, 40],\n",
       " [5, 10, 15, 20, 25, 30, 35, 40, 45, 50],\n",
       " [6, 12, 18, 24, 30, 36, 42, 48, 54, 60],\n",
       " [7, 14, 21, 28, 35, 42, 49, 56, 63, 70],\n",
       " [8, 16, 24, 32, 40, 48, 56, 64, 72, 80],\n",
       " [9, 18, 27, 36, 45, 54, 63, 72, 81, 90],\n",
       " [10, 20, 30, 40, 50, 60, 70, 80, 90, 100]]"
      ]
     },
     "execution_count": 2,
     "metadata": {},
     "output_type": "execute_result"
    }
   ],
   "source": [
    "l=[[i*j for i in range(1,11)] for j in range(1,11)]\n",
    "l"
   ]
  },
  {
   "cell_type": "code",
   "execution_count": 3,
   "id": "d8264ae9",
   "metadata": {},
   "outputs": [
    {
     "name": "stdout",
     "output_type": "stream",
     "text": [
      "{'1234555': 'divya', '4355758': 'snehaja', '4356799': 'mahi'}\n"
     ]
    }
   ],
   "source": [
    "### dictionary compehension\n",
    "id_no=[\"1234555\",\"4355758\",\"4356799\"]\n",
    "names=[\"divya\",\"snehaja\",\"mahi\"]\n",
    "c={}\n",
    "for (key,value) in zip(id_no,names):\n",
    "    c[key]=value\n",
    "print(c)    "
   ]
  },
  {
   "cell_type": "code",
   "execution_count": null,
   "id": "339f0373",
   "metadata": {},
   "outputs": [],
   "source": []
  },
  {
   "cell_type": "code",
   "execution_count": 5,
   "id": "1e5d9884",
   "metadata": {},
   "outputs": [
    {
     "data": {
      "text/plain": [
       "<generator object <genexpr> at 0x000000B96AC80AC0>"
      ]
     },
     "execution_count": 5,
     "metadata": {},
     "output_type": "execute_result"
    }
   ],
   "source": [
    "li=['a','b','c','d','e']\n",
    "(t.li.count(t) for i in li)"
   ]
  },
  {
   "cell_type": "code",
   "execution_count": 8,
   "id": "0427d5dc",
   "metadata": {},
   "outputs": [
    {
     "name": "stdout",
     "output_type": "stream",
     "text": [
      "<generator object <genexpr> at 0x000000B96ACA6040>\n"
     ]
    }
   ],
   "source": [
    "names=[\"mahi\",\"jyothi\",\"dhana\",\"valli\",\"snehaja\"]\n",
    "d=(t.len(i)for i in names)\n",
    "print(d)"
   ]
  },
  {
   "cell_type": "code",
   "execution_count": null,
   "id": "c2b2aa3c",
   "metadata": {},
   "outputs": [],
   "source": [
    "generator comprehension\n",
    "c="
   ]
  },
  {
   "cell_type": "markdown",
   "id": "6c46b945",
   "metadata": {},
   "source": [
    "### Itterators and Generators\n",
    "- itter is an object in python it contains no elements\n",
    "- 2 methods\n",
    "   - itter\n",
    "   - next\n",
    "- list,tuple,dict,these are some examples   \n",
    "   "
   ]
  },
  {
   "cell_type": "code",
   "execution_count": 13,
   "id": "beae3aa3",
   "metadata": {},
   "outputs": [
    {
     "name": "stdout",
     "output_type": "stream",
     "text": [
      "python\n"
     ]
    }
   ],
   "source": [
    "a=[\"python\"]\n",
    "for i in a:\n",
    "    print(i)    \n"
   ]
  },
  {
   "cell_type": "markdown",
   "id": "58ddb76d",
   "metadata": {},
   "source": [
    "### generators\n",
    "- generators can be used to either functions or comprehensions\n",
    "- it returns a itterator or object\n",
    "- generator yield can be used in place of return"
   ]
  },
  {
   "cell_type": "code",
   "execution_count": 16,
   "id": "8531856b",
   "metadata": {},
   "outputs": [
    {
     "data": {
      "text/plain": [
       "<function __main__.python()>"
      ]
     },
     "execution_count": 16,
     "metadata": {},
     "output_type": "execute_result"
    }
   ],
   "source": [
    "def python():\n",
    "    return \"e\"\n",
    "    print(\"place\")\n",
    "python    "
   ]
  },
  {
   "cell_type": "markdown",
   "id": "081c8789",
   "metadata": {},
   "source": [
    "### Function programming\n",
    "- lamda\n",
    "- map\n",
    "- filter\n",
    "- reduce"
   ]
  },
  {
   "cell_type": "markdown",
   "id": "4ad98818",
   "metadata": {},
   "source": [
    "### lambda\n",
    "- annomonous function or single line function\n",
    "- single expression and no of arguments\n",
    "- syntax:"
   ]
  },
  {
   "cell_type": "code",
   "execution_count": 17,
   "id": "1cb12e42",
   "metadata": {},
   "outputs": [
    {
     "data": {
      "text/plain": [
       "8"
      ]
     },
     "execution_count": 17,
     "metadata": {},
     "output_type": "execute_result"
    }
   ],
   "source": [
    "def add(a,b):\n",
    "    return a+b\n",
    "add(3,5)"
   ]
  },
  {
   "cell_type": "code",
   "execution_count": 19,
   "id": "5fdf11b2",
   "metadata": {},
   "outputs": [],
   "source": [
    "def mul(i):\n",
    "    return i*j"
   ]
  },
  {
   "cell_type": "markdown",
   "id": "2a7ea9f5",
   "metadata": {},
   "source": [
    "### map\n",
    "- syntax:map(function,itteration)"
   ]
  },
  {
   "cell_type": "code",
   "execution_count": null,
   "id": "fa60c6df",
   "metadata": {},
   "outputs": [],
   "source": [
    "s=set(map(lambda))"
   ]
  }
 ],
 "metadata": {
  "kernelspec": {
   "display_name": "Python 3 (ipykernel)",
   "language": "python",
   "name": "python3"
  },
  "language_info": {
   "codemirror_mode": {
    "name": "ipython",
    "version": 3
   },
   "file_extension": ".py",
   "mimetype": "text/x-python",
   "name": "python",
   "nbconvert_exporter": "python",
   "pygments_lexer": "ipython3",
   "version": "3.9.7"
  }
 },
 "nbformat": 4,
 "nbformat_minor": 5
}
