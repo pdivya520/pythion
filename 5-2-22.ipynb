{
 "cells": [
  {
   "cell_type": "markdown",
   "id": "640ed183",
   "metadata": {},
   "source": [
    "### file handling\n",
    "- file: file is a name location or memory used to store relative information\n",
    "- ex: .py,.html,.ipynb,.mp4\n",
    "- file handling: it allows user to handle files\n",
    "- compare to others programing languages in the file handling is easy in python\n",
    "- read and write files along with the other files handle options to work on file\n",
    "\n",
    "1. steps of the handling\n",
    "   - open file\n",
    "   - doing operations\n",
    "   - close a file\n",
    "- open function()\n",
    "  - we use open fun() in python to open the file in read and write\n",
    "  - to written a object we use in open function() along 2 arguments\n",
    "  - syntax::open(filename.mode)\n",
    "  \n",
    "- modes are 3 types to open a file\n",
    "  - read()-----'r'----> to read a file\n",
    "    - file_variable.read(size)\n",
    "  - write()----'w'---> to write a file\n",
    "    - file_variable.writte(data)\n",
    "  - append()---'a'---> to add a information to a file\n",
    "    - file_variable>append(data)\n",
    "    \n",
    "- by default the file will be open as'r' mode\n",
    "- close()\n",
    "- it is used to close a file\n",
    "- every time you have to close a file at the end of the operations otherwise the changes will not applicable\n",
    "  \n",
    "  \n",
    "   "
   ]
  },
  {
   "cell_type": "code",
   "execution_count": 2,
   "id": "074c673e",
   "metadata": {},
   "outputs": [
    {
     "name": "stdout",
     "output_type": "stream",
     "text": [
      "succesfully opened\n"
     ]
    }
   ],
   "source": [
    "f=open(\"data.txt\",'r')\n",
    "if f:\n",
    "    print(\"succesfully opened\")\n",
    "else:\n",
    "    print(\"failed\")"
   ]
  },
  {
   "cell_type": "code",
   "execution_count": 3,
   "id": "29d8d984",
   "metadata": {},
   "outputs": [
    {
     "name": "stdout",
     "output_type": "stream",
     "text": [
      " Good morning,welcome vasavi students\n"
     ]
    }
   ],
   "source": [
    "# read\n",
    "f=open(\"data.txt\",'r')\n",
    "print(f.read())\n",
    "f.close()"
   ]
  },
  {
   "cell_type": "code",
   "execution_count": 6,
   "id": "ef3d4629",
   "metadata": {},
   "outputs": [
    {
     "name": "stdout",
     "output_type": "stream",
     "text": [
      " Good morning,welcome vasavi students\n"
     ]
    }
   ],
   "source": [
    "# using with keyword automatically file will be close\n",
    "with open(\"data.txt\") as f:\n",
    "         fr=f.read()\n",
    "         print(fr)  \n",
    "    "
   ]
  },
  {
   "cell_type": "code",
   "execution_count": 7,
   "id": "cf557e10",
   "metadata": {},
   "outputs": [
    {
     "name": "stdout",
     "output_type": "stream",
     "text": [
      " Good \n"
     ]
    }
   ],
   "source": [
    "f=open(\"data.txt\",'r')\n",
    "print(f.read(6))\n",
    "f.close()\n"
   ]
  },
  {
   "cell_type": "code",
   "execution_count": 9,
   "id": "c53852c5",
   "metadata": {},
   "outputs": [
    {
     "name": "stdout",
     "output_type": "stream",
     "text": [
      "18\n"
     ]
    }
   ],
   "source": [
    "f=open(\"data1.txt\",'w')\n",
    "fr=f.write(\"python programming\")\n",
    "print(fr)\n",
    "f.close()"
   ]
  },
  {
   "cell_type": "markdown",
   "id": "c201ce5b",
   "metadata": {},
   "source": [
    "### File handling methods\n",
    "- open()\n",
    "- read()\n",
    "- write()\n",
    "- close()\n",
    "- readline()\n",
    "- readlines()\n",
    "- seek()\n",
    "- tell()\n",
    " types of modes\n",
    " - read()--->'r'\n",
    " - write()---> 'w'\n",
    " - append()---> 'a'"
   ]
  },
  {
   "cell_type": "code",
   "execution_count": 13,
   "id": "e1d3aff2",
   "metadata": {},
   "outputs": [],
   "source": [
    "f=open(\"data.txt\")"
   ]
  },
  {
   "cell_type": "markdown",
   "id": "6c7f5565",
   "metadata": {},
   "source": [
    "# write mode()\n",
    "- it is used to write something in file\n",
    "- if file is not their in directory\n",
    "- the file will be created with data will be written in that file"
   ]
  },
  {
   "cell_type": "code",
   "execution_count": 15,
   "id": "53334165",
   "metadata": {},
   "outputs": [],
   "source": [
    "f=open(\"data.txt\",'w')\n"
   ]
  },
  {
   "cell_type": "code",
   "execution_count": 17,
   "id": "01091644",
   "metadata": {},
   "outputs": [
    {
     "data": {
      "text/plain": [
       "6"
      ]
     },
     "execution_count": 17,
     "metadata": {},
     "output_type": "execute_result"
    }
   ],
   "source": [
    "f.write(\"gudbye\")"
   ]
  },
  {
   "cell_type": "code",
   "execution_count": 19,
   "id": "4ce34b52",
   "metadata": {},
   "outputs": [
    {
     "data": {
      "text/plain": [
       "18"
      ]
     },
     "execution_count": 19,
     "metadata": {},
     "output_type": "execute_result"
    }
   ],
   "source": [
    "f=open(\"data.txt\",'a')\n",
    "f.write(\"welcome to college\")"
   ]
  },
  {
   "cell_type": "code",
   "execution_count": 20,
   "id": "4c1283cc",
   "metadata": {},
   "outputs": [
    {
     "name": "stdout",
     "output_type": "stream",
     "text": [
      "<_io.TextIOWrapper name='data.txt' mode='a' encoding='cp1252'>\n"
     ]
    }
   ],
   "source": [
    "print(f)"
   ]
  },
  {
   "cell_type": "code",
   "execution_count": 21,
   "id": "3b8d2793",
   "metadata": {},
   "outputs": [
    {
     "name": "stdout",
     "output_type": "stream",
     "text": [
      "gudbyewelcome to college\n",
      "[]\n"
     ]
    }
   ],
   "source": [
    "f=open(\"data.txt\",'r')\n",
    "s=f.readline()\n",
    "print(s)\n",
    "t=f.readlines()\n",
    "print(t)"
   ]
  },
  {
   "cell_type": "code",
   "execution_count": 24,
   "id": "33bd8ce9",
   "metadata": {},
   "outputs": [
    {
     "name": "stdout",
     "output_type": "stream",
     "text": [
      "number of lines in the file: 1\n"
     ]
    }
   ],
   "source": [
    "with open(\"data.txt\",'r') as f:\n",
    "    no_of_lines=f.readlines()\n",
    "    print(\"number of lines in the file:\",len(no_of_lines))"
   ]
  },
  {
   "cell_type": "code",
   "execution_count": 25,
   "id": "93cf2e12",
   "metadata": {},
   "outputs": [
    {
     "name": "stdout",
     "output_type": "stream",
     "text": [
      "number of line in the file: 24\n"
     ]
    }
   ],
   "source": [
    "with open(\"data.txt\",'r') as f:\n",
    "    no_of_line=f.readline()\n",
    "    print(\"number of line in the file:\",len(no_of_line))"
   ]
  },
  {
   "cell_type": "code",
   "execution_count": 30,
   "id": "10dad234",
   "metadata": {},
   "outputs": [
    {
     "name": "stdout",
     "output_type": "stream",
     "text": [
      "number of words are: 3\n"
     ]
    }
   ],
   "source": [
    "# no of words in the  given file\n",
    "words=0\n",
    "for line in no_of_lines:\n",
    "    words_list=line.split()\n",
    "    words=len(words_list)\n",
    "print(\"number of words are:\",words)    "
   ]
  },
  {
   "cell_type": "code",
   "execution_count": null,
   "id": "b10cc54f",
   "metadata": {},
   "outputs": [],
   "source": []
  },
  {
   "cell_type": "code",
   "execution_count": null,
   "id": "1aae8366",
   "metadata": {},
   "outputs": [],
   "source": []
  }
 ],
 "metadata": {
  "kernelspec": {
   "display_name": "Python 3 (ipykernel)",
   "language": "python",
   "name": "python3"
  },
  "language_info": {
   "codemirror_mode": {
    "name": "ipython",
    "version": 3
   },
   "file_extension": ".py",
   "mimetype": "text/x-python",
   "name": "python",
   "nbconvert_exporter": "python",
   "pygments_lexer": "ipython3",
   "version": "3.9.7"
  }
 },
 "nbformat": 4,
 "nbformat_minor": 5
}
